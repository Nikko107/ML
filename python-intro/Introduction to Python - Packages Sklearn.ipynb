{
 "cells": [
  {
   "cell_type": "markdown",
   "id": "807c06b5",
   "metadata": {},
   "source": [
    "***\n",
    "**Introduction to Machine Learning** <br>\n",
    "__[https://slds-lmu.github.io/i2ml/](https://slds-lmu.github.io/i2ml/)__\n",
    "***"
   ]
  },
  {
   "cell_type": "markdown",
   "id": "98a89ecc",
   "metadata": {},
   "source": [
    "# 3. Packages"
   ]
  },
  {
   "cell_type": "markdown",
   "id": "11f4377a",
   "metadata": {},
   "source": [
    "## 3.5 sklearn Package"
   ]
  },
  {
   "cell_type": "markdown",
   "id": "8ddbd14c",
   "metadata": {},
   "source": [
    "**Scikit-learn** is a widely-used open-source machine learning library in Python, known for its simplicity, efficiency, and accessibility. <br>\n",
    "It provides a range of supervised and unsupervised learning algorithms, including classification, regression, clustering, and dimensionality reduction. <br>\n",
    "The library also offers tools for model selection, preprocessing, and evaluation. Its consistent and easy-to-use API makes it a popular choice for both beginners and experienced practitioners in data science and machine learning. <br>\n",
    "Scikit-learn's integration with other Python libraries like **NumPy** and **Pandas** enhances its functionality and ease of use in data manipulation and analysis."
   ]
  },
  {
   "cell_type": "markdown",
   "id": "e2fe096c",
   "metadata": {},
   "source": [
    "Go to thier website for documentation, version information and useful code examples: https://scikit-learn.org/stable/index.html"
   ]
  },
  {
   "cell_type": "markdown",
   "id": "eba68266",
   "metadata": {},
   "source": [
    "### 3.5.1 Statistics vs. Machine Learning"
   ]
  },
  {
   "cell_type": "markdown",
   "id": "6ba0b6ba",
   "metadata": {},
   "source": [
    "### Statistical Approach\n",
    "- **Objective**: Focuses on understanding relationships and making inferences using hypothesis testing and confidence intervals.\n",
    "- **Methodology**: Relies on models based on data distribution assumptions.\n",
    "- **Python Libraries**: Typically implemented with `statsmodels` for statistical modeling and analysis.\n",
    "\n",
    "### Machine Learning Approach\n",
    "- **Objective**: Prioritizes making accurate predictions on new data.\n",
    "- **Methodology**: Constructs algorithms for learning from data without needing explicit data distribution assumptions.\n",
    "- **Python Libraries**: Commonly uses `scikit-learn` for a wide range of predictive modeling techniques and tools."
   ]
  },
  {
   "cell_type": "markdown",
   "id": "439a99e6",
   "metadata": {},
   "source": [
    "### 3.5.2 Install and import scikit-learn"
   ]
  },
  {
   "cell_type": "code",
   "execution_count": null,
   "id": "84e9794b",
   "metadata": {},
   "outputs": [],
   "source": [
    "# in your terminal you can install scikit-learn to your virtual environment (with a specifc version)\n",
    "pip install scikit-learn==1.1.3\n",
    "# or\n",
    "conda install scikit-learn==1.1.3"
   ]
  },
  {
   "cell_type": "markdown",
   "id": "d7518169",
   "metadata": {},
   "source": [
    "It is good practice to sick either with pip or conda for one environment"
   ]
  },
  {
   "cell_type": "code",
   "execution_count": 1,
   "id": "b009d3d3",
   "metadata": {},
   "outputs": [],
   "source": [
    "## import the scikit-learn package in your code (notice the different name!)\n",
    "import sklearn"
   ]
  },
  {
   "cell_type": "markdown",
   "id": "e20a1e2b",
   "metadata": {},
   "source": [
    "### 3.5.3 Regression as Machine Learning"
   ]
  },
  {
   "cell_type": "code",
   "execution_count": null,
   "id": "68e97a1e",
   "metadata": {},
   "outputs": [],
   "source": []
  }
 ],
 "metadata": {
  "kernelspec": {
   "display_name": "python-i2ml",
   "language": "python",
   "name": "python-i2ml"
  },
  "language_info": {
   "codemirror_mode": {
    "name": "ipython",
    "version": 3
   },
   "file_extension": ".py",
   "mimetype": "text/x-python",
   "name": "python",
   "nbconvert_exporter": "python",
   "pygments_lexer": "ipython3",
   "version": "3.10.12"
  }
 },
 "nbformat": 4,
 "nbformat_minor": 5
}
