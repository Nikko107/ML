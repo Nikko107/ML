{
  "cells": [
    {
      "cell_type": "markdown",
      "metadata": {},
      "source": [
        "# Exercise 1: ML basics\n",
        "\n",
        "[Introduction to Machine Learning](https://slds-lmu.github.io/i2ml/)\n",
        "\n",
        "\\$\\$\n",
        "\n",
        "% math spaces % N, naturals % Z, integers % Q, rationals % R, reals % C,\n",
        "complex % C, space of continuous functions % machine numbers % maximum\n",
        "error\n",
        "\n",
        "% counting / finite sets % set 0, 1 % set -1, 1 % unit interval\n",
        "\n",
        "% basic math stuff % x tilde % argmax % argmin % argmax with limits %\n",
        "argmin with limits  \n",
        "% sign, signum % I, indicator % O, order\n",
        "\n",
        "% partial derivative\n",
        "\n",
        "% floor\n",
        "\n",
        "% ceiling\n",
        "\n",
        "% sums and products % summation from i=1 to n % summation from i=1 to m\n",
        "% summation from j=1 to p % summation from j=1 to p % summation from i=1\n",
        "to k % summation from k=1 to g % summation from j=1 to g % mean from i=1\n",
        "to n % mean from i=1 to n % mean from k=1 to g % product from i=1 to n %\n",
        "product from k=1 to g % product from j=1 to p\n",
        "\n",
        "% linear algebra % 1, unitvector % 0-vector % I, identity % diag,\n",
        "diagonal % tr, trace % span\n",
        "\n",
        "% \\<.,.\\>, scalarproduct\n",
        "\n",
        "% short pmatrix command % matrix A % error term for vectors\n",
        "\n",
        "% basic probability + stats % P, probability % E, expectation % Var,\n",
        "variance % Cov, covariance % Corr, correlation % N of the normal\n",
        "distribution % dist with i.i.d superscript\n",
        "\n",
        "% … is distributed as … \\$\\$\n",
        "\n",
        "> **Learning goals**\n",
        ">\n",
        "> This and that.\n",
        "\n",
        "# Exercise 1: Car Price Prediction\n",
        "\n",
        "Imagine you work at a second-hand car dealer and are tasked with finding\n",
        "for-sale vehicles your company can acquire at a reasonable price. You\n",
        "decide to address this challenge in a data-driven manner and develop a\n",
        "model that predicts adequate market prices (in EUR) from vehicles’\n",
        "properties.\n",
        "\n",
        "1.  Characterize the task at hand: supervised or unsupervised?\n",
        "    Regression or classification? Learning to explain or learning to\n",
        "    predict? Justify your answers."
      ],
      "id": "15d6273e-18df-4371-be98-980bc1cee7f9"
    },
    {
      "cell_type": "raw",
      "metadata": {
        "raw_mimetype": "text/html"
      },
      "source": [
        "<details>"
      ],
      "id": "fe8a09a0-0905-462b-bd90-3032703a4dc1"
    },
    {
      "cell_type": "raw",
      "metadata": {
        "raw_mimetype": "text/html"
      },
      "source": [
        "<summary>"
      ],
      "id": "6fc8ef3d-deb3-42c4-9de4-949f1847bdca"
    },
    {
      "cell_type": "markdown",
      "metadata": {},
      "source": [
        "Solution"
      ],
      "id": "7c86d129-c09d-41e1-978f-35878a9c0625"
    },
    {
      "cell_type": "raw",
      "metadata": {
        "raw_mimetype": "text/html"
      },
      "source": [
        "</summary>"
      ],
      "id": "ede4d00b-dd7b-4df0-9d73-3fcbc32089a2"
    },
    {
      "cell_type": "markdown",
      "metadata": {},
      "source": [
        "We face a **supervised regression** task: we definitely need labeled\n",
        "training data to infer a relationship between cars’ attributes and their\n",
        "prices, and price in EUR is a continuous target (or quasi-continuous, to\n",
        "be exact – as with all other quantities, we can only measure it with\n",
        "finite precision, but the scale is sufficiently fine-grained to assume\n",
        "continuity). **Prediction** is definitely the goal here, however, it\n",
        "might also be interesting to examine the explanatory contribution of\n",
        "each feature."
      ],
      "id": "0f72c42e-daff-4177-bf59-f7a9669d84f4"
    },
    {
      "cell_type": "raw",
      "metadata": {
        "raw_mimetype": "text/html"
      },
      "source": [
        "</details>"
      ],
      "id": "3ac7561b-03ca-4697-ab81-dc692f5652d1"
    },
    {
      "cell_type": "markdown",
      "metadata": {},
      "source": [
        "1.  How would you set up your data? Name potential features along with\n",
        "    their respective data type and state the target variable."
      ],
      "id": "974a4b22-d223-495f-a1d3-2aae832c579e"
    },
    {
      "cell_type": "raw",
      "metadata": {
        "raw_mimetype": "text/html"
      },
      "source": [
        "<details>"
      ],
      "id": "ee0a0959-91ae-4e05-a83e-78853ccd7891"
    },
    {
      "cell_type": "raw",
      "metadata": {
        "raw_mimetype": "text/html"
      },
      "source": [
        "<summary>"
      ],
      "id": "ce1d6a1c-a020-45c2-bd7e-87a2b84b91ba"
    },
    {
      "cell_type": "markdown",
      "metadata": {},
      "source": [
        "Solution"
      ],
      "id": "4748ea75-edec-4c1a-a604-a076b00a3e0d"
    },
    {
      "cell_type": "raw",
      "metadata": {
        "raw_mimetype": "text/html"
      },
      "source": [
        "</summary>"
      ],
      "id": "6a0338bb-87d0-400f-b304-9f374d983459"
    },
    {
      "cell_type": "markdown",
      "metadata": {},
      "source": [
        "Target variable and potential features:\n",
        "\n",
        "| Variable          | Role    | Data type |\n",
        "|:------------------|:--------|-----------|\n",
        "| Price in EUR      | Target  | Numeric   |\n",
        "| Age in days       | Feature | Numeric   |\n",
        "| Accident-free y/n | Feature | Binary    |\n",
        "| …                 | …       | …         |"
      ],
      "id": "e2471623-2d84-439a-8085-f4af27dbacd7"
    },
    {
      "cell_type": "raw",
      "metadata": {
        "raw_mimetype": "text/html"
      },
      "source": [
        "</details>"
      ],
      "id": "0756e418-9d9c-4aac-adcd-1c6a4ed8c829"
    },
    {
      "cell_type": "markdown",
      "metadata": {},
      "source": [
        "1.  Assume now that you have data on vehicles’ age (days), mileage (km),\n",
        "    and price (EUR). Explicitly define the feature space $\\mathcal{X}$\n",
        "    and target space $\\mathcal{Y}$."
      ],
      "id": "08995994-a477-4e29-9f9f-fb2ed777bc81"
    },
    {
      "cell_type": "raw",
      "metadata": {
        "raw_mimetype": "text/html"
      },
      "source": [
        "<details>"
      ],
      "id": "7056b47d-998d-4314-bdbc-bd9ab17ab16a"
    },
    {
      "cell_type": "raw",
      "metadata": {
        "raw_mimetype": "text/html"
      },
      "source": [
        "<summary>"
      ],
      "id": "4679a6d3-176d-4eba-828a-d5f078038e64"
    },
    {
      "cell_type": "markdown",
      "metadata": {},
      "source": [
        "Solution"
      ],
      "id": "626f1631-2e7f-446b-81c9-f6bfb6a5af38"
    },
    {
      "cell_type": "raw",
      "metadata": {
        "raw_mimetype": "text/html"
      },
      "source": [
        "</summary>"
      ],
      "id": "fb3b026c-f240-448b-a514-52cd79e2bd29"
    },
    {
      "cell_type": "markdown",
      "metadata": {},
      "source": [
        "Let $x_1$ and $x_2$ measure age and mileage, respectively. Both features\n",
        "and target are numeric and (quasi-) continuous. It is also reasonable to\n",
        "assume non-negativity for the features, such that we obtain\n",
        "$\\mathcal{X}= (\\mathds{R}_{0}^{+})^2$, with\n",
        "$\\xi = (x_1, x_2)^{(i)} \\in \\mathcal{X}$ for $i = 1, 2, \\dots, n$\n",
        "observations. As the standard LM does not impose any restrictions on the\n",
        "target, we have $\\mathcal{Y}= \\mathds{R}$, though we would probably\n",
        "discard negative predictions in practice."
      ],
      "id": "8626ffbb-edac-4f5f-a9f5-edd641eb2cff"
    },
    {
      "cell_type": "raw",
      "metadata": {
        "raw_mimetype": "text/html"
      },
      "source": [
        "</details>"
      ],
      "id": "1b053c6a-9f0f-4fd6-9bb1-93ab8a603cc0"
    },
    {
      "cell_type": "markdown",
      "metadata": {},
      "source": [
        "1.  You choose to use a linear model (LM) for this task. For this, you\n",
        "    assume the targets to be conditionally independent given the\n",
        "    features, i.e., y(i)\\|x(i) ∈ y(j)\\|x(j) for all i, j ∈ {1, 2, . . .\n",
        "    , n}, i 6 = j, with sample size n. The LM models the target as a\n",
        "    linear function of the features with Gaussian error term. State the\n",
        "    hypothesis space for the corresponding model class. For this, assume\n",
        "    the parameter vector θ to include the intercept coefficient.\n",
        "\n",
        "2.  Which parameters need to be learned? Define the corresponding\n",
        "    parameter space Θ.\n",
        "\n",
        "3.  State the loss function for the $i$-th observation using $L2$ loss.\n",
        "\n",
        "4.  Now you need to optimize this risk to find the best parameters, and\n",
        "    hence the best model, via empirical risk minimization. State the\n",
        "    optimization problem formally and list the necessary steps to solve\n",
        "    it.\n",
        "\n",
        "## R\n",
        "\n",
        "``` r\n",
        "library(ggplot2)\n",
        "```\n",
        "\n",
        "## Python\n",
        "\n",
        "``` python\n",
        "# from foo import bar\n",
        "```"
      ],
      "id": "304942cd-3469-46ad-ad02-e0991f2d74e2"
    }
  ],
  "nbformat": 4,
  "nbformat_minor": 5,
  "metadata": {
    "kernelspec": {
      "display_name": "Python 3",
      "language": "python",
      "name": "python3"
    }
  }
}