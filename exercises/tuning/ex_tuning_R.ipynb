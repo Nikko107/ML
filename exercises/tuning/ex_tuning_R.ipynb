{
 "cells": [
  {
   "cell_type": "markdown",
   "id": "0cd1bb33",
   "metadata": {},
   "source": [
    "***\n",
    "**Introduction to Machine Learning** <br>\n",
    "__[https://slds-lmu.github.io/i2ml/](https://slds-lmu.github.io/i2ml/)__\n",
    "***"
   ]
  },
  {
   "cell_type": "markdown",
   "id": "91a25043",
   "metadata": {},
   "source": [
    "# Exercise sheet 11: Tuning"
   ]
  },
  {
   "cell_type": "code",
   "execution_count": null,
   "id": "1dbc6bfa",
   "metadata": {},
   "outputs": [],
   "source": [
    "#| label: import\n",
    "# Consider the following libraries for this exercise sheet:\n",
    "\n",
    "library(mlr3)\n",
    "library(mlr3learners)\n",
    "library(mlr3tuning)\n",
    "\n",
    "# for visualization\n",
    "library(mlr3viz)\n",
    "library(ggplot2)"
   ]
  },
  {
   "cell_type": "markdown",
   "id": "8dbb6337",
   "metadata": {},
   "source": [
    "## Exercise 1: Tuning $k$-NN\n"
   ]
  },
  {
   "cell_type": "markdown",
   "id": "04f1d651",
   "metadata": {},
   "source": [
    "In this exercise we will perform hyperparameter optimization (HPO) for the task of classifying the `credit risk`\n",
    "data with a $k$-NN classifier."
   ]
  },
  {
   "cell_type": "markdown",
   "id": "582a55c4",
   "metadata": {},
   "source": [
    "The `kknn` implementation used by `mlr3` contains several hyperparameters, three of which are to be tuned for our\n",
    "prediction:"
   ]
  },
  {
   "cell_type": "markdown",
   "id": "f52ed8cc",
   "metadata": {},
   "source": [
    "- $k$ (number of neighbors)\n",
    "- `kernel`\n",
    "- `scale`"
   ]
  },
  {
   "cell_type": "markdown",
   "id": "3f6376ab",
   "metadata": {},
   "source": [
    "a) Describe briefly the role of each hyperparameter in the learning algorithm – which effects can be expected by altering them?"
   ]
  },
  {
   "cell_type": "code",
   "execution_count": null,
   "id": "84770e79",
   "metadata": {},
   "outputs": [],
   "source": [
    "# Enter your code here:"
   ]
  },
  {
   "cell_type": "markdown",
   "id": "fe097546",
   "metadata": {},
   "source": [
    "b) In `mlr3` (using the `mlr3tuning` library), define an appropriate search space to tune over. We want to explore a range between 1 and 100 for $k$ and the kernel to be chosen from \"rectangular\", \"epanechnikov\", \"gaussian\", \"optimal\".\n"
   ]
  },
  {
   "cell_type": "code",
   "execution_count": null,
   "id": "5ea586d7",
   "metadata": {},
   "outputs": [],
   "source": [
    "# Enter your code here:"
   ]
  },
  {
   "cell_type": "markdown",
   "id": "acf72805",
   "metadata": {},
   "source": [
    "c) Perform the tuning procedure using `TuningInstanceSingleCrit`. Set aside 200 test observations first. Use 5-fold cross validation and random search, and terminate the process after either 30 seconds or 200 evaluations.\n"
   ]
  },
  {
   "cell_type": "code",
   "execution_count": null,
   "id": "684fe82d",
   "metadata": {},
   "outputs": [],
   "source": [
    "# Enter your code here:"
   ]
  },
  {
   "cell_type": "markdown",
   "id": "dc968165",
   "metadata": {},
   "source": [
    "d) You realize that a high AUC is the performance measure you are actually interested in. Modify the HPO procedure such that performance is optimized w.r.t. AUC.\n"
   ]
  },
  {
   "cell_type": "code",
   "execution_count": null,
   "id": "b899e6de",
   "metadata": {},
   "outputs": [],
   "source": [
    "# Enter your code here:"
   ]
  },
  {
   "cell_type": "markdown",
   "id": "c95e6ac9",
   "metadata": {},
   "source": [
    "e) Visualize the tuning result with a suitable command. What do you observe regarding the impact of different hyperparameters on predictive performance? What are limits of such a form of analysis?\n"
   ]
  },
  {
   "cell_type": "code",
   "execution_count": null,
   "id": "86ac486f",
   "metadata": {},
   "outputs": [],
   "source": [
    "# Enter your code here:"
   ]
  },
  {
   "cell_type": "markdown",
   "id": "94a8a792",
   "metadata": {},
   "source": [
    "f) After analyzing the tuning results, you notice that changes in $k$ are more influential for smaller neighborhoods. Re-run the HPO procedure with a log-transformation for $k$.\n"
   ]
  },
  {
   "cell_type": "code",
   "execution_count": null,
   "id": "60d7442d",
   "metadata": {},
   "outputs": [],
   "source": [
    "# Enter your code here:"
   ]
  },
  {
   "cell_type": "markdown",
   "id": "79d7b42f",
   "metadata": {},
   "source": [
    "g) With the hyperparameter configuration found via HPO, fit the model on all training observations and compute the AUC on your test data.\n"
   ]
  },
  {
   "cell_type": "code",
   "execution_count": null,
   "id": "497291ec",
   "metadata": {},
   "outputs": [],
   "source": [
    "# Enter your code here:"
   ]
  }
 ],
 "metadata": {
  "kernelspec": {
   "display_name": "Python 3 (ipykernel)",
   "language": "python",
   "name": "python3"
  },
  "language_info": {
   "codemirror_mode": {
    "name": "ipython",
    "version": 3
   },
   "file_extension": ".py",
   "mimetype": "text/x-python",
   "name": "python",
   "nbconvert_exporter": "python",
   "pygments_lexer": "ipython3",
   "version": "3.10.12"
  }
 },
 "nbformat": 4,
 "nbformat_minor": 5
}
