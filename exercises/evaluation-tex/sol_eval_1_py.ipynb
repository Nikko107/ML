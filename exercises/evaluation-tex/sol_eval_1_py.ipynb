{
 "cells": [
  {
   "cell_type": "markdown",
   "id": "266a123d",
   "metadata": {},
   "source": [
    "## Init: Import packages"
   ]
  },
  {
   "cell_type": "code",
   "execution_count": 1,
   "id": "3ca41b68",
   "metadata": {},
   "outputs": [],
   "source": [
    "#| label: import\n",
    "\n",
    "# general\n",
    "import numpy as np\n",
    "import pandas as pd\n",
    "import math\n",
    "# plots\n",
    "import matplotlib.pyplot as plt\n",
    "#sklearn\n",
    "from sklearn.linear_model import LinearRegression\n",
    "from sklearn.preprocessing import PolynomialFeatures\n",
    "from sklearn.metrics import mean_squared_error\n",
    "from sklearn.model_selection import train_test_split\n",
    "# from sklearn.datasets import load_boston"
   ]
  },
  {
   "cell_type": "markdown",
   "id": "ba043b79",
   "metadata": {},
   "source": [
    "## Solution 1: Evaluating regression learners"
   ]
  },
  {
   "cell_type": "markdown",
   "id": "5a5f5834",
   "metadata": {},
   "source": [
    "### a)"
   ]
  },
  {
   "cell_type": "markdown",
   "id": "1e9be2a5",
   "metadata": {},
   "source": [
    "Since the polynomial learner clearly achieves a better fit for the training data and some observations lie rather far from the regression line, which is strongly penalized by $L2$ loss, it will have lower empirical risk than the linear learner."
   ]
  },
  {
   "cell_type": "markdown",
   "id": "39d6a73b",
   "metadata": {},
   "source": [
    "### b)"
   ]
  },
  {
   "cell_type": "markdown",
   "id": "8f6718b2",
   "metadata": {},
   "source": [
    "First and foremost, evaluation on the training data is almost never a good idea. Under certain conditions the training error does tell us something about generalization ability, but for flexible learners and/or small training data it is deceptive due to optimistic bias. In this particular situation, we have few training observations and quite some points that look a little extreme. A low training error might be achieved by a learner that fits every quirk in the training data but generalizes poorly to unseen points with only slightly different distribution. Evaluation on separate test data is therefore non-negotiable."
   ]
  },
  {
   "cell_type": "markdown",
   "id": "2f0fd62c",
   "metadata": {},
   "source": [
    "### c) "
   ]
  },
  {
   "cell_type": "markdown",
   "id": "d6c38b61",
   "metadata": {},
   "source": [
    " We fit the polynomial and linear learner and then compute the squared and absolute differences between their\n",
    "respective predictions and the true target values:"
   ]
  },
  {
   "cell_type": "code",
   "execution_count": 2,
   "id": "36da4b69",
   "metadata": {},
   "outputs": [
    {
     "name": "stdout",
     "output_type": "stream",
     "text": [
      "          y          x\n",
      "0  7.128700  10.000000\n",
      "1  6.549227  10.102041\n",
      "2  6.824611  10.204082\n",
      "3  6.763703  10.306122\n",
      "4  7.484359  10.408163\n"
     ]
    }
   ],
   "source": [
    "#| label: train\n",
    "\n",
    "# define train data including outlier\n",
    "np.random.seed(43)\n",
    "x_train = np.linspace(10, 15, num = 50)\n",
    "y_train = 10 + 3 * np.sin(0.15 * math.pi * x_train) + np.random.normal(loc=0.0, scale=0.5, size= len(x_train))\n",
    "# Write dictionary for pandas Data Frame to save training data\n",
    "dic_train = {\"y\": y_train, \n",
    "             \"x\": x_train}\n",
    "data_train = pd.DataFrame(dic_train)\n",
    "print(data_train.head())"
   ]
  },
  {
   "cell_type": "code",
   "execution_count": 3,
   "id": "399774c1",
   "metadata": {},
   "outputs": [
    {
     "name": "stdout",
     "output_type": "stream",
     "text": [
      "          y          x\n",
      "0  6.863954  10.000000\n",
      "1  5.927873  10.102041\n",
      "2  6.616488  10.204082\n",
      "3  7.574020  10.306122\n",
      "4  6.861275  10.408163\n"
     ]
    }
   ],
   "source": [
    "#| label: test\n",
    "\n",
    "# define test data\n",
    "np.random.seed(2238)\n",
    "x_test = np.linspace(10, 15, num = 50)\n",
    "y_test = 10 + 3 * np.sin(0.15 * math.pi * x_test) + np.random.normal(loc=0.0, scale=0.5, size= len(x_test))\n",
    "# Write dictionary for pandas Data Frame to save test data\n",
    "dic_test = {\"y\": y_test, \n",
    "            \"x\": x_test}\n",
    "data_test = pd.DataFrame(dic_test)\n",
    "print(data_test.head())"
   ]
  },
  {
   "cell_type": "code",
   "execution_count": 4,
   "id": "b4b5c7c9",
   "metadata": {},
   "outputs": [
    {
     "name": "stdout",
     "output_type": "stream",
     "text": [
      "MAE for Polynomial and Linear fit:\n",
      "0    0.436762\n",
      "1    0.421898\n",
      "dtype: float64\n",
      "MSE for Polynomial and Linear fit:\n",
      "0    0.266721\n",
      "1    0.276253\n",
      "dtype: float64\n"
     ]
    }
   ],
   "source": [
    "#| label: fit\n",
    "\n",
    "# train polynomial regression\n",
    "poly = PolynomialFeatures(degree = 21)\n",
    "x_train_poly = poly.fit_transform(x_train.reshape(-1, 1)) # reshaping necessary because single feature\n",
    "x_test_poly = poly.fit_transform(x_test.reshape(-1, 1)) # reshaping necessary because single feature\n",
    "poly_model = LinearRegression()\n",
    "poly_model.fit(x_train_poly, y_train)\n",
    "\n",
    "# train linear regression\n",
    "lm_model = LinearRegression()\n",
    "lm_model.fit(x_train.reshape(-1, 1), y_train) # reshaping necessary because single feature\n",
    "\n",
    "# make predictions\n",
    "y_poly = poly_model.predict(x_test_poly)\n",
    "y_lm = lm_model.predict(x_test.reshape(-1, 1))\n",
    "\n",
    "# compute errors\n",
    "abs_differences = pd.DataFrame(np.column_stack([y_poly, y_lm])).apply(lambda y: abs(data_test.loc[:, 'y']-y)) # apply is componentwise\n",
    "errors_mse = abs_differences.apply(lambda x: x**2).mean() # ** is power symbol\n",
    "errors_mae = abs_differences.mean()\n",
    "\n",
    "print(\"MAE for Polynomial and Linear fit:\", errors_mae, sep='\\n')\n",
    "print(\"MSE for Polynomial and Linear fit:\", errors_mse, sep='\\n')"
   ]
  },
  {
   "cell_type": "markdown",
   "id": "8cdd4550",
   "metadata": {},
   "source": [
    "The picture is inconclusive: based on MSE, we should prefer the complex polynomial model, while MAE tells us\n",
    "to pick the linear one. It is important to understand that the choices of inner and outer loss functions encode our\n",
    "requirements and may have substantial impact on the result. Our learners differ strongly in their complexity:\n",
    "we have an extremely flexible polynomial and a very robust (though perhaps underfitting) linear one. If, for\n",
    "example, our test data contains an extreme point far from the remaining observations, the polynomial model\n",
    "might be able to fit it fairly well, while the LM incurs a large MSE because the distance to this point enters\n",
    "quadratically. The MAE, on the other hand, is more concerned with small residuals, and there, our LM fares\n",
    "better. Here, following the MAE assessment would signify preference for a robust model."
   ]
  },
  {
   "cell_type": "markdown",
   "id": "f6596629",
   "metadata": {},
   "source": [
    "However, we must keep in mind that our performance evaluation is based on a single holdout split, which is\n",
    "not advisable in general and particularly deceptive with so little data. For different test data we quickly get\n",
    "in situations where the polynomial has both worse MSE and MAE – after all, slapping a learner with 21 + 1\n",
    "learnable parameters on a 50-points data set should strike you as a rather bad idea."
   ]
  },
  {
   "cell_type": "markdown",
   "id": "437c8a3b",
   "metadata": {},
   "source": [
    "Take-home message: the choice of our performance metric matters, and making decisions based on a single\n",
    "train-test split is risky in many data settings."
   ]
  },
  {
   "cell_type": "markdown",
   "id": "7f83b674",
   "metadata": {},
   "source": [
    "## Solution 2: Importance of train-test split"
   ]
  },
  {
   "cell_type": "markdown",
   "id": "c489ac56",
   "metadata": {},
   "source": [
    "### a)"
   ]
  },
  {
   "cell_type": "markdown",
   "id": "06d3445b",
   "metadata": {},
   "source": [
    "Get the data, define a task and corresponding train-test split, and predict with trained model:"
   ]
  },
  {
   "cell_type": "code",
   "execution_count": 5,
   "id": "dd476438",
   "metadata": {},
   "outputs": [
    {
     "data": {
      "text/html": [
       "<div>\n",
       "<style scoped>\n",
       "    .dataframe tbody tr th:only-of-type {\n",
       "        vertical-align: middle;\n",
       "    }\n",
       "\n",
       "    .dataframe tbody tr th {\n",
       "        vertical-align: top;\n",
       "    }\n",
       "\n",
       "    .dataframe thead th {\n",
       "        text-align: right;\n",
       "    }\n",
       "</style>\n",
       "<table border=\"1\" class=\"dataframe\">\n",
       "  <thead>\n",
       "    <tr style=\"text-align: right;\">\n",
       "      <th></th>\n",
       "      <th>NOX</th>\n",
       "      <th>DIS</th>\n",
       "    </tr>\n",
       "  </thead>\n",
       "  <tbody>\n",
       "    <tr>\n",
       "      <th>0</th>\n",
       "      <td>0.668</td>\n",
       "      <td>1.1296</td>\n",
       "    </tr>\n",
       "    <tr>\n",
       "      <th>1</th>\n",
       "      <td>0.668</td>\n",
       "      <td>1.1370</td>\n",
       "    </tr>\n",
       "    <tr>\n",
       "      <th>2</th>\n",
       "      <td>0.631</td>\n",
       "      <td>1.1691</td>\n",
       "    </tr>\n",
       "    <tr>\n",
       "      <th>3</th>\n",
       "      <td>0.668</td>\n",
       "      <td>1.1742</td>\n",
       "    </tr>\n",
       "    <tr>\n",
       "      <th>4</th>\n",
       "      <td>0.659</td>\n",
       "      <td>1.1781</td>\n",
       "    </tr>\n",
       "  </tbody>\n",
       "</table>\n",
       "</div>"
      ],
      "text/plain": [
       "     NOX     DIS\n",
       "0  0.668  1.1296\n",
       "1  0.668  1.1370\n",
       "2  0.631  1.1691\n",
       "3  0.668  1.1742\n",
       "4  0.659  1.1781"
      ]
     },
     "execution_count": 5,
     "metadata": {},
     "output_type": "execute_result"
    }
   ],
   "source": [
    "#| label: lin-model\n",
    "\n",
    "# boston housing from original source\n",
    "data_url = \"http://lib.stat.cmu.edu/datasets/boston\"\n",
    "raw_df = pd.read_csv(data_url, sep=\"\\s+\", skiprows=22, header=None)\n",
    "data = np.hstack([raw_df.values[::2, :], raw_df.values[1::2, :2]])\n",
    "boston = pd.DataFrame(data[:,np.r_[4,7]], columns= [\"NOX\", \"DIS\"])\n",
    "boston = boston.sort_values(\"DIS\") # sort for \"DIS\", does not reset index\n",
    "boston.reset_index(drop = True, inplace = True)\n",
    "\n",
    "# load_boston() deprecated, but still functional in our sklearn version\n",
    "# boston_dataset = load_boston()\n",
    "# boston = pd.DataFrame(boston_dataset.data, columns=boston_dataset.feature_names).loc[:, [\"DIS\", \"NOX\"]]\n",
    "\n",
    "boston.head()"
   ]
  },
  {
   "cell_type": "code",
   "execution_count": 6,
   "id": "43a4f040",
   "metadata": {},
   "outputs": [],
   "source": [
    "# Seperate target and feature for test and training set\n",
    "nox = boston.loc[:,[\"NOX\"]]\n",
    "dis = boston.loc[:,[\"DIS\"]]\n",
    "\n",
    "X_train = dis.loc[:9,]\n",
    "X_test = dis.loc[10:,] # index is also saved, thus index starts in X_test at 10, not 0\n",
    "\n",
    "y_train = nox.loc[:9,]\n",
    "y_test = nox.loc[10:,]"
   ]
  },
  {
   "cell_type": "code",
   "execution_count": 7,
   "id": "538056cc",
   "metadata": {},
   "outputs": [
    {
     "name": "stdout",
     "output_type": "stream",
     "text": [
      "MSE of test data:  1.5245119659277124\n"
     ]
    }
   ],
   "source": [
    "#train linear learner\n",
    "lm_boston = LinearRegression()\n",
    "lm_boston.fit(X = X_train, y = y_train)\n",
    "\n",
    "pred = lm_boston.predict(X_test)\n",
    "\n",
    "print(\"MSE of test data: \", mean_squared_error(y_test, pred))"
   ]
  },
  {
   "cell_type": "markdown",
   "id": "d67aaff5",
   "metadata": {},
   "source": [
    "### b) "
   ]
  },
  {
   "cell_type": "markdown",
   "id": "4b85692d",
   "metadata": {},
   "source": [
    "We have chosen the first ten observations from a data set that is ordered by feature value, which is not a good idea because this is not a random sample and covers only a particular area of the feature space. Consequently, we obtain a pretty high test MSE (relatively speaking -- we will see in the next exercise which error values we can usually expect for this task). Looking at the data, this gives us a steeply declining regression line that does not reflect the overall data situation. Also, a training set of ten points is pretty small and will likely lead to poor generalization."
   ]
  },
  {
   "cell_type": "markdown",
   "id": "4a3a122d",
   "metadata": {},
   "source": [
    "### c)"
   ]
  },
  {
   "cell_type": "markdown",
   "id": "3eb905b9",
   "metadata": {},
   "source": [
    "We repeat the above procedure for different train-test splits like so:\n"
   ]
  },
  {
   "cell_type": "code",
   "execution_count": 8,
   "id": "91d76df1",
   "metadata": {},
   "outputs": [],
   "source": [
    "#| label: split\n",
    "split_ratio = np.linspace(0.1, 0.9, num = 9)\n",
    "\n",
    "result = pd.DataFrame()\n",
    "for i in range(10):\n",
    "    err = []\n",
    "    for split in split_ratio:\n",
    "        X_train, X_test, y_train, y_test = train_test_split(dis, nox, train_size = split, random_state=i+10)\n",
    "        lm_boston.fit(X = X_train, y = y_train)\n",
    "        pred = lm_boston.predict(X_test)\n",
    "        err.append(mean_squared_error(y_test, pred))\n",
    "    result[i] = err\n",
    "    \n",
    "errors = result.transpose()\n",
    "errors.columns = [\"0.1\", \"0.2\", \"0.3\", \"0.4\", \"0.5\", \"0.6\", \"0.7\", \"0.8\", \"0.9\"]"
   ]
  },
  {
   "cell_type": "code",
   "execution_count": 9,
   "id": "846aa5d4",
   "metadata": {},
   "outputs": [
    {
     "data": {
      "image/png": "[encoded data removed]",
      "text/plain": [
       "<Figure size 800x550 with 1 Axes>"
      ]
     },
     "metadata": {},
     "output_type": "display_data"
    }
   ],
   "source": [
    "#| label: plot\n",
    "\n",
    "# plot your errors\n",
    "# instantiate plot\n",
    "fig = plt.figure(figsize =(8, 5.5))\n",
    "# Creating axes instance\n",
    "ax = fig.add_axes([0, 0, 1, 1])\n",
    "# Creating plot\n",
    "bp = ax.boxplot(errors)\n",
    "# x-axis labels\n",
    "ax.set_xticklabels([\"0.1\", \"0.2\", \"0.3\", \"0.4\", \"0.5\", \"0.6\", \"0.7\", \"0.8\", \"0.9\"])\n",
    "# Adding title\n",
    "plt.title(\"MSE of Linear Model for different test set sizes\", size=20)\n",
    "plt.xlabel('train split size', size=16)\n",
    "plt.ylabel('MSE', size=16)\n",
    "# show plot\n",
    "plt.show()"
   ]
  }
 ],
 "metadata": {
  "kernelspec": {
   "display_name": "python-i2ml",
   "language": "python",
   "name": "python-i2ml"
  },
  "language_info": {
   "codemirror_mode": {
    "name": "ipython",
    "version": 3
   },
   "file_extension": ".py",
   "mimetype": "text/x-python",
   "name": "python",
   "nbconvert_exporter": "python",
   "pygments_lexer": "ipython3",
   "version": "3.10.13"
  }
 },
 "nbformat": 4,
 "nbformat_minor": 5
}
