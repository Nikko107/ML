{
 "cells": [
  {
   "cell_type": "markdown",
   "id": "bc38024f",
   "metadata": {},
   "source": [
    "## Solution 1: HRO in sklearn"
   ]
  },
  {
   "cell_type": "markdown",
   "id": "b377b939",
   "metadata": {},
   "source": [
    "### a)"
   ]
  },
  {
   "cell_type": "markdown",
   "id": "b5fd246a",
   "metadata": {},
   "source": [
    "Model classes representing a certain hypothesis are stored in subpackages of sklearn. You can reach it with importing the desired class with e.g."
   ]
  },
  {
   "cell_type": "code",
   "execution_count": 1,
   "id": "bfaf0008",
   "metadata": {},
   "outputs": [],
   "source": [
    "#general\n",
    "import numpy as np\n",
    "import pandas as pd\n",
    "import math\n",
    "#plots\n",
    "import matplotlib.pyplot as plt \n",
    "import seaborn as sns\n",
    "#sklearn\n",
    "from sklearn.datasets import load_iris\n",
    "from sklearn.tree import DecisionTreeRegressor \n",
    "from sklearn.linear_model import LinearRegression\n",
    "import sklearn.metrics as metrics\n",
    "from sklearn.metrics import mean_absolute_error"
   ]
  },
  {
   "cell_type": "markdown",
   "id": "4b72668c",
   "metadata": {},
   "source": [
    "It is good pratice to import everything in the beginning of your code."
   ]
  },
  {
   "cell_type": "markdown",
   "id": "1ba7f289",
   "metadata": {},
   "source": [
    "You initialize your \"learner\" or model with its properties defined by the parameters, e.g."
   ]
  },
  {
   "cell_type": "code",
   "execution_count": 2,
   "id": "1d663682",
   "metadata": {},
   "outputs": [
    {
     "data": {
      "text/html": [
       "<style>#sk-container-id-1 {color: black;background-color: white;}#sk-container-id-1 pre{padding: 0;}#sk-container-id-1 div.sk-toggleable {background-color: white;}#sk-container-id-1 label.sk-toggleable__label {cursor: pointer;display: block;width: 100%;margin-bottom: 0;padding: 0.3em;box-sizing: border-box;text-align: center;}#sk-container-id-1 label.sk-toggleable__label-arrow:before {content: \"▸\";float: left;margin-right: 0.25em;color: #696969;}#sk-container-id-1 label.sk-toggleable__label-arrow:hover:before {color: black;}#sk-container-id-1 div.sk-estimator:hover label.sk-toggleable__label-arrow:before {color: black;}#sk-container-id-1 div.sk-toggleable__content {max-height: 0;max-width: 0;overflow: hidden;text-align: left;background-color: #f0f8ff;}#sk-container-id-1 div.sk-toggleable__content pre {margin: 0.2em;color: black;border-radius: 0.25em;background-color: #f0f8ff;}#sk-container-id-1 input.sk-toggleable__control:checked~div.sk-toggleable__content {max-height: 200px;max-width: 100%;overflow: auto;}#sk-container-id-1 input.sk-toggleable__control:checked~label.sk-toggleable__label-arrow:before {content: \"▾\";}#sk-container-id-1 div.sk-estimator input.sk-toggleable__control:checked~label.sk-toggleable__label {background-color: #d4ebff;}#sk-container-id-1 div.sk-label input.sk-toggleable__control:checked~label.sk-toggleable__label {background-color: #d4ebff;}#sk-container-id-1 input.sk-hidden--visually {border: 0;clip: rect(1px 1px 1px 1px);clip: rect(1px, 1px, 1px, 1px);height: 1px;margin: -1px;overflow: hidden;padding: 0;position: absolute;width: 1px;}#sk-container-id-1 div.sk-estimator {font-family: monospace;background-color: #f0f8ff;border: 1px dotted black;border-radius: 0.25em;box-sizing: border-box;margin-bottom: 0.5em;}#sk-container-id-1 div.sk-estimator:hover {background-color: #d4ebff;}#sk-container-id-1 div.sk-parallel-item::after {content: \"\";width: 100%;border-bottom: 1px solid gray;flex-grow: 1;}#sk-container-id-1 div.sk-label:hover label.sk-toggleable__label {background-color: #d4ebff;}#sk-container-id-1 div.sk-serial::before {content: \"\";position: absolute;border-left: 1px solid gray;box-sizing: border-box;top: 0;bottom: 0;left: 50%;z-index: 0;}#sk-container-id-1 div.sk-serial {display: flex;flex-direction: column;align-items: center;background-color: white;padding-right: 0.2em;padding-left: 0.2em;position: relative;}#sk-container-id-1 div.sk-item {position: relative;z-index: 1;}#sk-container-id-1 div.sk-parallel {display: flex;align-items: stretch;justify-content: center;background-color: white;position: relative;}#sk-container-id-1 div.sk-item::before, #sk-container-id-1 div.sk-parallel-item::before {content: \"\";position: absolute;border-left: 1px solid gray;box-sizing: border-box;top: 0;bottom: 0;left: 50%;z-index: -1;}#sk-container-id-1 div.sk-parallel-item {display: flex;flex-direction: column;z-index: 1;position: relative;background-color: white;}#sk-container-id-1 div.sk-parallel-item:first-child::after {align-self: flex-end;width: 50%;}#sk-container-id-1 div.sk-parallel-item:last-child::after {align-self: flex-start;width: 50%;}#sk-container-id-1 div.sk-parallel-item:only-child::after {width: 0;}#sk-container-id-1 div.sk-dashed-wrapped {border: 1px dashed gray;margin: 0 0.4em 0.5em 0.4em;box-sizing: border-box;padding-bottom: 0.4em;background-color: white;}#sk-container-id-1 div.sk-label label {font-family: monospace;font-weight: bold;display: inline-block;line-height: 1.2em;}#sk-container-id-1 div.sk-label-container {text-align: center;}#sk-container-id-1 div.sk-container {/* jupyter's `normalize.less` sets `[hidden] { display: none; }` but bootstrap.min.css set `[hidden] { display: none !important; }` so we also need the `!important` here to be able to override the default hidden behavior on the sphinx rendered scikit-learn.org. See: https://github.com/scikit-learn/scikit-learn/issues/21755 */display: inline-block !important;position: relative;}#sk-container-id-1 div.sk-text-repr-fallback {display: none;}</style><div id=\"sk-container-id-1\" class=\"sk-top-container\"><div class=\"sk-text-repr-fallback\"><pre>LinearRegression()</pre><b>In a Jupyter environment, please rerun this cell to show the HTML representation or trust the notebook. <br />On GitHub, the HTML representation is unable to render, please try loading this page with nbviewer.org.</b></div><div class=\"sk-container\" hidden><div class=\"sk-item\"><div class=\"sk-estimator sk-toggleable\"><input class=\"sk-toggleable__control sk-hidden--visually\" id=\"sk-estimator-id-1\" type=\"checkbox\" checked><label for=\"sk-estimator-id-1\" class=\"sk-toggleable__label sk-toggleable__label-arrow\">LinearRegression</label><div class=\"sk-toggleable__content\"><pre>LinearRegression()</pre></div></div></div></div></div>"
      ],
      "text/plain": [
       "LinearRegression()"
      ]
     },
     "execution_count": 2,
     "metadata": {},
     "output_type": "execute_result"
    }
   ],
   "source": [
    "model = LinearRegression(fit_intercept = True)\n",
    "model"
   ]
  },
  {
   "cell_type": "markdown",
   "id": "7d08c194",
   "metadata": {},
   "source": [
    "Before training them on actual data, they just contain information on the functional form of f. Once a learner has been trained we can examine the parameters of the resulting model. "
   ]
  },
  {
   "cell_type": "markdown",
   "id": "4e96420e",
   "metadata": {},
   "source": [
    "Optimization happens rather implicitly as sklearn only acts as a wrapper for existing implementations and calls package-specific optimization procedures within the function \"model.fit()\":"
   ]
  },
  {
   "cell_type": "code",
   "execution_count": 3,
   "id": "242c03d8",
   "metadata": {},
   "outputs": [
    {
     "data": {
      "text/html": [
       "<style>#sk-container-id-2 {color: black;background-color: white;}#sk-container-id-2 pre{padding: 0;}#sk-container-id-2 div.sk-toggleable {background-color: white;}#sk-container-id-2 label.sk-toggleable__label {cursor: pointer;display: block;width: 100%;margin-bottom: 0;padding: 0.3em;box-sizing: border-box;text-align: center;}#sk-container-id-2 label.sk-toggleable__label-arrow:before {content: \"▸\";float: left;margin-right: 0.25em;color: #696969;}#sk-container-id-2 label.sk-toggleable__label-arrow:hover:before {color: black;}#sk-container-id-2 div.sk-estimator:hover label.sk-toggleable__label-arrow:before {color: black;}#sk-container-id-2 div.sk-toggleable__content {max-height: 0;max-width: 0;overflow: hidden;text-align: left;background-color: #f0f8ff;}#sk-container-id-2 div.sk-toggleable__content pre {margin: 0.2em;color: black;border-radius: 0.25em;background-color: #f0f8ff;}#sk-container-id-2 input.sk-toggleable__control:checked~div.sk-toggleable__content {max-height: 200px;max-width: 100%;overflow: auto;}#sk-container-id-2 input.sk-toggleable__control:checked~label.sk-toggleable__label-arrow:before {content: \"▾\";}#sk-container-id-2 div.sk-estimator input.sk-toggleable__control:checked~label.sk-toggleable__label {background-color: #d4ebff;}#sk-container-id-2 div.sk-label input.sk-toggleable__control:checked~label.sk-toggleable__label {background-color: #d4ebff;}#sk-container-id-2 input.sk-hidden--visually {border: 0;clip: rect(1px 1px 1px 1px);clip: rect(1px, 1px, 1px, 1px);height: 1px;margin: -1px;overflow: hidden;padding: 0;position: absolute;width: 1px;}#sk-container-id-2 div.sk-estimator {font-family: monospace;background-color: #f0f8ff;border: 1px dotted black;border-radius: 0.25em;box-sizing: border-box;margin-bottom: 0.5em;}#sk-container-id-2 div.sk-estimator:hover {background-color: #d4ebff;}#sk-container-id-2 div.sk-parallel-item::after {content: \"\";width: 100%;border-bottom: 1px solid gray;flex-grow: 1;}#sk-container-id-2 div.sk-label:hover label.sk-toggleable__label {background-color: #d4ebff;}#sk-container-id-2 div.sk-serial::before {content: \"\";position: absolute;border-left: 1px solid gray;box-sizing: border-box;top: 0;bottom: 0;left: 50%;z-index: 0;}#sk-container-id-2 div.sk-serial {display: flex;flex-direction: column;align-items: center;background-color: white;padding-right: 0.2em;padding-left: 0.2em;position: relative;}#sk-container-id-2 div.sk-item {position: relative;z-index: 1;}#sk-container-id-2 div.sk-parallel {display: flex;align-items: stretch;justify-content: center;background-color: white;position: relative;}#sk-container-id-2 div.sk-item::before, #sk-container-id-2 div.sk-parallel-item::before {content: \"\";position: absolute;border-left: 1px solid gray;box-sizing: border-box;top: 0;bottom: 0;left: 50%;z-index: -1;}#sk-container-id-2 div.sk-parallel-item {display: flex;flex-direction: column;z-index: 1;position: relative;background-color: white;}#sk-container-id-2 div.sk-parallel-item:first-child::after {align-self: flex-end;width: 50%;}#sk-container-id-2 div.sk-parallel-item:last-child::after {align-self: flex-start;width: 50%;}#sk-container-id-2 div.sk-parallel-item:only-child::after {width: 0;}#sk-container-id-2 div.sk-dashed-wrapped {border: 1px dashed gray;margin: 0 0.4em 0.5em 0.4em;box-sizing: border-box;padding-bottom: 0.4em;background-color: white;}#sk-container-id-2 div.sk-label label {font-family: monospace;font-weight: bold;display: inline-block;line-height: 1.2em;}#sk-container-id-2 div.sk-label-container {text-align: center;}#sk-container-id-2 div.sk-container {/* jupyter's `normalize.less` sets `[hidden] { display: none; }` but bootstrap.min.css set `[hidden] { display: none !important; }` so we also need the `!important` here to be able to override the default hidden behavior on the sphinx rendered scikit-learn.org. See: https://github.com/scikit-learn/scikit-learn/issues/21755 */display: inline-block !important;position: relative;}#sk-container-id-2 div.sk-text-repr-fallback {display: none;}</style><div id=\"sk-container-id-2\" class=\"sk-top-container\"><div class=\"sk-text-repr-fallback\"><pre>LinearRegression()</pre><b>In a Jupyter environment, please rerun this cell to show the HTML representation or trust the notebook. <br />On GitHub, the HTML representation is unable to render, please try loading this page with nbviewer.org.</b></div><div class=\"sk-container\" hidden><div class=\"sk-item\"><div class=\"sk-estimator sk-toggleable\"><input class=\"sk-toggleable__control sk-hidden--visually\" id=\"sk-estimator-id-2\" type=\"checkbox\" checked><label for=\"sk-estimator-id-2\" class=\"sk-toggleable__label sk-toggleable__label-arrow\">LinearRegression</label><div class=\"sk-toggleable__content\"><pre>LinearRegression()</pre></div></div></div></div></div>"
      ],
      "text/plain": [
       "LinearRegression()"
      ]
     },
     "execution_count": 3,
     "metadata": {},
     "output_type": "execute_result"
    }
   ],
   "source": [
    "x = np.arange(0, 8, 0.01)\n",
    "y = -1 + 3*x + np.random.normal(loc=0.0, scale=4, size=800)\n",
    "model.fit(x.reshape(-1, 1),y) # reshape for one feature design matrix"
   ]
  },
  {
   "cell_type": "markdown",
   "id": "6866e3c1",
   "metadata": {},
   "source": [
    "The empirical risk can be assessed after training by several performance measures (e.g., based on L2 loss)."
   ]
  },
  {
   "cell_type": "code",
   "execution_count": 4,
   "id": "a8069915",
   "metadata": {},
   "outputs": [
    {
     "name": "stdout",
     "output_type": "stream",
     "text": [
      "Model MSE:  15.26613919907392\n"
     ]
    }
   ],
   "source": [
    "print('Model MSE: ', metrics.mean_squared_error(y,model.predict(x.reshape(-1, 1))))"
   ]
  },
  {
   "cell_type": "markdown",
   "id": "2ff9ac3d",
   "metadata": {},
   "source": [
    "### b)"
   ]
  },
  {
   "cell_type": "code",
   "execution_count": 5,
   "id": "13ec99c2",
   "metadata": {},
   "outputs": [
    {
     "name": "stdout",
     "output_type": "stream",
     "text": [
      "Type of object iris: <class 'sklearn.utils._bunch.Bunch'>\n",
      "Feature names: ['sepal length (cm)', 'sepal width (cm)', 'petal length (cm)', 'petal width (cm)']\n",
      "Target names: ['setosa' 'versicolor' 'virginica']\n",
      "\n",
      "Shape of X and y\n",
      " (150, 4) (150,)\n",
      "\n",
      "Type of X and y\n",
      " <class 'numpy.ndarray'> <class 'numpy.ndarray'>\n"
     ]
    }
   ],
   "source": [
    "iris = load_iris() # function to import iris data set as type \"utils.Bunch\" with sklearn\n",
    "X = iris.data\n",
    "y = iris.target\n",
    "feature_names = iris.feature_names\n",
    "target_names = iris.target_names\n",
    "print(\"Type of object iris:\", type(iris))\n",
    "print(\"Feature names:\", feature_names)\n",
    "print(\"Target names:\", target_names)\n",
    "print(\"\\nShape of X and y\\n\", X.shape, y.shape)\n",
    "print(\"\\nType of X and y\\n\", type(X), type(y))"
   ]
  },
  {
   "cell_type": "markdown",
   "id": "d2dc8147",
   "metadata": {},
   "source": [
    "We obtain the following information:<br>\n",
    "-  iris has categorical targets ['setosa' 'versicolor' 'virginica']\n",
    "-  It has 150 observations of 5 variables, one of which is the target.\n",
    "-  both, X and y, are of type 'numpy.ndarray', thus numerical. The 3 classes in target y are stored as numbers 0, 1, 2."
   ]
  },
  {
   "cell_type": "markdown",
   "id": "70fe6c2c",
   "metadata": {},
   "source": [
    "### c) "
   ]
  },
  {
   "cell_type": "markdown",
   "id": "eddf7c52",
   "metadata": {},
   "source": [
    "sklearn offers many different models. Let's look at regression trees:"
   ]
  },
  {
   "cell_type": "markdown",
   "id": "79616993",
   "metadata": {},
   "source": [
    "Roughly speaking, regression trees create small, homogeneous subsets (“nodes”) by repeatedly splitting the data at some cut-off (e.g., for iris: partition into observations with Sepal.Width ≤ 3 and > 3), and predict the mean target value within each final group. Regression trees are discussed in greater depth in chapter 06: Classification and Regression Trees (CART). This following demonstration rather aims at the general structure of a sklearn object."
   ]
  },
  {
   "cell_type": "code",
   "execution_count": 6,
   "id": "36bbc849",
   "metadata": {},
   "outputs": [],
   "source": [
    "# help(DecisionTreeRegressor) "
   ]
  },
  {
   "cell_type": "markdown",
   "id": "a7fdb786",
   "metadata": {},
   "source": [
    "Prints documentary in console, or visit scikit-learn.org --> select right version --> go to right class, here sklearn.tree.DecisionTreeRegressor."
   ]
  },
  {
   "cell_type": "code",
   "execution_count": 7,
   "id": "45f7ab69",
   "metadata": {},
   "outputs": [
    {
     "name": "stdout",
     "output_type": "stream",
     "text": [
      "{'ccp_alpha': 0.0, 'criterion': 'squared_error', 'max_depth': None, 'max_features': None, 'max_leaf_nodes': None, 'min_impurity_decrease': 0.0, 'min_samples_leaf': 1, 'min_samples_split': 2, 'min_weight_fraction_leaf': 0.0, 'random_state': None, 'splitter': 'best'}\n"
     ]
    }
   ],
   "source": [
    "rtree = DecisionTreeRegressor() #default setting\n",
    "print(rtree.get_params())\n",
    "# print(rtree.get_depth()) # not working because no tree was fitted yet\n",
    "# print(rtree.get_n_leaves()) # not working because no tree was fitted yet"
   ]
  },
  {
   "cell_type": "markdown",
   "id": "53af96c5",
   "metadata": {},
   "source": [
    "In general: DecisionTreeRegressor inherits from class sklearn.tree as it is used for regression, it predicts regression value for input X."
   ]
  },
  {
   "cell_type": "markdown",
   "id": "ad474436",
   "metadata": {},
   "source": [
    "Important parameters <br>\n",
    "criterion: choose between L2, L1, and others as Loss function <br>\n",
    "splitter: strategy for choosing the split, default \"best\" <br>\n",
    "max-depth: The maximum depth of the tree <br>\n",
    "other complexity related params <br>\n",
    "random_state: Controls the randomness of the estimator. To obtain a deterministic behaviour during fitting, random_state has to be fixed to an integer. "
   ]
  },
  {
   "cell_type": "markdown",
   "id": "23097455",
   "metadata": {},
   "source": [
    "## Solution 2: Loss Function for Regression Task"
   ]
  },
  {
   "cell_type": "markdown",
   "id": "8a55cfab",
   "metadata": {},
   "source": [
    "### a) "
   ]
  },
  {
   "cell_type": "markdown",
   "id": "b12c3c4e",
   "metadata": {},
   "source": [
    "$L2$ loss penalizes vertical distances to the regression line *quadratically*, while $L1$ only considers the *absolute*\n",
    "distance. As the outlier point lies pretty far from the remaining training data, it will have a large loss with $L2$,\n",
    "and the regression line will pivot to the bottom right to minimize the resulting empirical risk. A model trained\n",
    "with $L1$ loss is less susceptible to the outlier and will adjust only slightly to the new data.\n"
   ]
  },
  {
   "attachments": {
    "unnamed-chunk-9-1-1.png": {
     "image/png": "[encoded data removed]"
    }
   },
   "cell_type": "markdown",
   "id": "23a56995",
   "metadata": {},
   "source": [
    "![unnamed-chunk-9-1-1.png](attachment:unnamed-chunk-9-1-1.png)"
   ]
  },
  {
   "cell_type": "markdown",
   "id": "841c443e",
   "metadata": {},
   "source": [
    "### b)"
   ]
  },
  {
   "cell_type": "markdown",
   "id": "077735e8",
   "metadata": {},
   "source": [
    "The Huber loss combines the respective advantages of $L1$ and $L2$ loss: it is smooth and (once) differentiable\n",
    "like $L2$ but does not punish larger residuals as severely, leading to more robustness. It is simply a (weighted)\n",
    "piecewise combination of both losses, where $\\epsilon$ marks where $L2$ transits to $L1$ loss. The exact definition is:\n"
   ]
  },
  {
   "cell_type": "markdown",
   "id": "e5be4335",
   "metadata": {},
   "source": [
    "$$\n",
    "  L(y, f(\\mathbf{x})) = \\begin{cases}\n",
    "    \\frac{1}{2}(y - f(\\mathbf{x}))^2  & \\text{ if } |y - f(\\mathbf{x})| \\le \\epsilon \\\\\n",
    "    \\epsilon |y - f(\\mathbf{x})|-\\frac{1}{2}\\epsilon^2 \\quad & \\text{ otherwise }\n",
    "    \\end{cases}, \\quad \\epsilon > 0\n",
    "$$"
   ]
  },
  {
   "cell_type": "markdown",
   "id": "6b29ac33",
   "metadata": {},
   "source": [
    "In the plot we can see how the parabolic shape of the loss around $0$ evolves into an absolute-value function at\n",
    "$|y - f(\\mathbf{x})| > \\epsilon = 5$."
   ]
  },
  {
   "cell_type": "markdown",
   "id": "b39d74c6",
   "metadata": {},
   "source": [
    "## Solution 3: Polynomial Regression"
   ]
  },
  {
   "cell_type": "markdown",
   "id": "83abb20d",
   "metadata": {},
   "source": [
    "### a) "
   ]
  },
  {
   "cell_type": "markdown",
   "id": "b7ca3c11",
   "metadata": {},
   "source": [
    "*Cubic* means degree $3$, so our hypothesis space will look as follows:\n",
    "$$\n",
    "\\mathcal{H} = \\left \\{ f(\\mathbf{x}| \\mathbf{\\theta}) = \\theta_0 + \\theta_1 x + \\theta_2 x^2 + \\theta_3 x^3 |\\; (\\theta_0, \\theta_1, \\theta_2, \\theta_3)^T \\in \\mathbb{R}^4 \\right \\}\n",
    "$$"
   ]
  },
  {
   "cell_type": "markdown",
   "id": "03e47aab",
   "metadata": {},
   "source": [
    "### b)"
   ]
  },
  {
   "cell_type": "markdown",
   "id": "634e8066",
   "metadata": {},
   "source": [
    "The empirical risk is:\n",
    "\n",
    "$$\n",
    "\\mathcal{R}_{emp}(\\mathbf{\\theta})= \\sum_{i=1}^{50} \\left( y^{(i)} - \\left[ \\theta_0 + \\theta_1 x^{(i)} + \\theta_2 \\left(x^{(i)}\\right)^2 + \\theta_3 \\left(x^{(i)}\\right)^3 \\right] \\right)^2\n",
    "$$"
   ]
  },
  {
   "cell_type": "markdown",
   "id": "3a30017a",
   "metadata": {},
   "source": [
    "### c)"
   ]
  },
  {
   "cell_type": "markdown",
   "id": "85f36d67",
   "metadata": {},
   "source": [
    "We can find the gradient just as we did for an intermediate\n",
    "result when we derived the least-squares estimator:\n",
    "$$\n",
    "\\nabla_{\\mathbf{\\theta}} \\mathcal{R}_{emp}(\\mathbf{\\theta}) = \\frac{\\partial}{\\partial \\mathbf{\\theta}} \\left \\| \\mathbf{y} - \\mathbf{X}\\mathbf{\\theta} \\right \\|_2^2\\\\\n",
    "= \\frac{\\partial}{\\partial \\mathbf{\\theta}} \\left( (\\mathbf{y} - \\mathbf{X}\\mathbf{\\theta})^T (\\mathbf{y} - \\mathbf{X}\\mathbf{\\theta})\\right)\\\\\n",
    "= -2 \\mathbf{X}^T \\mathbf{y} + 2 \\mathbf{X}^T \\mathbf{X} \\mathbf{\\theta}\\\\\n",
    "= 2 \\cdot \\left( -\\mathbf{X}^T \\mathbf{y} + \\mathbf{X}^T \\mathbf{X} \\mathbf{\\theta} \\right)\n",
    "$$"
   ]
  },
  {
   "cell_type": "markdown",
   "id": "01cf9a94",
   "metadata": {},
   "source": [
    "### d) "
   ]
  },
  {
   "cell_type": "markdown",
   "id": "4136ee09",
   "metadata": {},
   "source": [
    "Recall that the idea of gradient descent (*descent!*) is to traverse the risk surface in the direction of the negative\n",
    "gradient as we are in search for the minimum. Therefore, we will update our current parameter set $\\mathbf{\\theta}^{[t]}$ with\n",
    "the negative gradient of the current empirical risk w.r.t. $\\mathbf{\\theta}$, scaled by learning rate (or step size) $\\alpha$:\n",
    "$$\n",
    "\\mathbf{\\theta}^{[t+1]} = \\mathbf{\\theta}^{[t]} - \\alpha \\cdot \\nabla_{\\mathbf{\\theta}} \\mathcal{R}_{emp}(\\mathbf{\\theta}^{[t]}) \n",
    "$$"
   ]
  },
  {
   "cell_type": "markdown",
   "id": "42139f93",
   "metadata": {},
   "source": [
    "Note that the $L2$-induced multiplicative constant of $2$ in the gradient can simply be absorbed by $\\tilde{\\alpha} := \\frac{1}{2} \\alpha$:"
   ]
  },
  {
   "cell_type": "markdown",
   "id": "f5dff6af",
   "metadata": {},
   "source": [
    "$$\n",
    "\\underbrace{\\mathbf{\\theta}^{[t+1]}}_{p \\times 1} = \\underbrace{\\mathbf{\\theta}^{[t]}}_{p \\times 1} - \\tilde{\\alpha} \\cdot \\left( - \\underbrace{\\mathbf{\\tilde{X}}^T}_{p \\times n} \\underbrace{\\mathbf{y}}_{n \\times 1} + \\underbrace{\\mathbf{\\tilde{X}}^T \\mathbf{\\tilde{X}}}_{p \\times p} \\underbrace{\\mathbf{\\theta}^{[t]}}_{p \\times 1} \\right)\n",
    "$$"
   ]
  },
  {
   "cell_type": "markdown",
   "id": "eccf371a",
   "metadata": {},
   "source": [
    "$$\n",
    "\\left( \\matrix{ \\theta_1 \\\\ \\theta_2 \\\\ \\vdots \\\\ \\theta_p} \\right)^{[t + 1]} = \\left( \\matrix{ \\theta_1 \\\\ \\theta_2 \\\\ \\vdots \\\\ \\theta_p} \\right)^{[t]} - \\tilde{\\alpha} \\cdot \\left( - \\mathbf{\\tilde{X}}^T \\mathbf{y} + \\mathbf{\\tilde{X}}^T \\mathbf{\\tilde{X}} \\left( \\matrix{ \\theta_1 \\\\ \\theta_2 \\\\ \\vdots \\\\ \\theta_p} \\right)^{[t]} \\right)\n",
    "$$"
   ]
  },
  {
   "cell_type": "markdown",
   "id": "5e498ac3",
   "metadata": {},
   "source": [
    "What actually happens here: we update each component of our current parameter vector $\\mathbf{\\theta}^{[t]}$\n",
    "in the *direction* of the negative gradient, i.e., following the steepest downward slope, and also by an *amount* that depends on the value of the gradient.\n"
   ]
  },
  {
   "cell_type": "markdown",
   "id": "2ae8523a",
   "metadata": {},
   "source": [
    "In order to see what that means it is helpful to recall that the gradient $\\nabla_{\\mathbf{\\theta}} \\mathcal{R}_{emp}(\\mathbf{\\theta})$ tells us about the effect (infinitesimally small) changes in $\\mathbf{\\theta}$ have on $\\mathcal{R}_{emp}(\\mathbf{\\theta})$. A parameter vector component with large gradient has strong impact on the empirical risk, and it is reasonable to assume it to be rather important for the model. <br>\n",
    "Therefore, gradient updates focus on influential components, and we proceed more quickly along the important\n",
    "dimensions."
   ]
  },
  {
   "cell_type": "markdown",
   "id": "997f5a90",
   "metadata": {},
   "source": [
    "### e) "
   ]
  },
  {
   "cell_type": "markdown",
   "id": "97bf4d69",
   "metadata": {},
   "source": [
    "We see that, for example, the first model in exercise b) fits the data fairly well but not perfectly. Choosing a\n",
    "more flexible function (a polynomial of higher degree or a function from an entirely different, more complex,\n",
    "model class) might be advantageous:\n",
    "- We would be able to trace the observations more closely if our function were less smooth, and thus reduce empirical risk."
   ]
  },
  {
   "cell_type": "markdown",
   "id": "417ebaf6",
   "metadata": {},
   "source": [
    "On the other hand, flexibility also has some drawbacks:\n",
    "- Flexible model classes often have more parameters, making training harder.\n",
    "- We might run into a phenomenon called **overfitting**. Recall that our ultimate goal is to make predictions on *new* observations (after all, we know the labels for the training data). However, fitting every quirk of the training observations – possibly caused by imprecise measurement or other factors of randomness/error – will not generalize so well to new data."
   ]
  },
  {
   "cell_type": "markdown",
   "id": "85b5622b",
   "metadata": {},
   "source": [
    "In the end, we need to balance model fit and generalization. We will discuss the choice of hypotheses quite a\n",
    "lot since it is one of the most crucial design decisions in machine learning."
   ]
  },
  {
   "cell_type": "markdown",
   "id": "c8ea7e74",
   "metadata": {},
   "source": [
    "### *)  Additional model assessing"
   ]
  },
  {
   "cell_type": "markdown",
   "id": "8f70511d",
   "metadata": {},
   "source": [
    "There exists no R type regression summary report in sklearn. The main reason is that sklearn is used for predictive modelling / machine learning and the evaluation criteria are based on performance on previously unseen data (such as predictive r^2 for regression)."
   ]
  },
  {
   "cell_type": "markdown",
   "id": "0c71cf6e",
   "metadata": {},
   "source": [
    "For the statistical view on Linear Regression you can use the package "
   ]
  },
  {
   "cell_type": "code",
   "execution_count": 18,
   "id": "659db14a",
   "metadata": {},
   "outputs": [],
   "source": [
    "import statsmodels.formula.api as smf"
   ]
  },
  {
   "cell_type": "markdown",
   "id": "98586248",
   "metadata": {},
   "source": [
    "The function OLS performs Ordinary least square fit (Linear regression) and has a summary() function. "
   ]
  },
  {
   "cell_type": "code",
   "execution_count": 19,
   "id": "47f7cb59",
   "metadata": {},
   "outputs": [
    {
     "data": {
      "text/html": [
       "<table class=\"simpletable\">\n",
       "<caption>OLS Regression Results</caption>\n",
       "<tr>\n",
       "  <th>Dep. Variable:</th>          <td>rings</td>      <th>  R-squared:         </th> <td>   0.314</td> \n",
       "</tr>\n",
       "<tr>\n",
       "  <th>Model:</th>                   <td>OLS</td>       <th>  Adj. R-squared:    </th> <td>   0.314</td> \n",
       "</tr>\n",
       "<tr>\n",
       "  <th>Method:</th>             <td>Least Squares</td>  <th>  F-statistic:       </th> <td>   956.9</td> \n",
       "</tr>\n",
       "<tr>\n",
       "  <th>Date:</th>             <td>Tue, 28 Mar 2023</td> <th>  Prob (F-statistic):</th>  <td>  0.00</td>  \n",
       "</tr>\n",
       "<tr>\n",
       "  <th>Time:</th>                 <td>17:54:54</td>     <th>  Log-Likelihood:    </th> <td> -10028.</td> \n",
       "</tr>\n",
       "<tr>\n",
       "  <th>No. Observations:</th>      <td>  4177</td>      <th>  AIC:               </th> <td>2.006e+04</td>\n",
       "</tr>\n",
       "<tr>\n",
       "  <th>Df Residuals:</th>          <td>  4174</td>      <th>  BIC:               </th> <td>2.008e+04</td>\n",
       "</tr>\n",
       "<tr>\n",
       "  <th>Df Model:</th>              <td>     2</td>      <th>                     </th>     <td> </td>    \n",
       "</tr>\n",
       "<tr>\n",
       "  <th>Covariance Type:</th>      <td>nonrobust</td>    <th>                     </th>     <td> </td>    \n",
       "</tr>\n",
       "</table>\n",
       "<table class=\"simpletable\">\n",
       "<tr>\n",
       "        <td></td>           <th>coef</th>     <th>std err</th>      <th>t</th>      <th>P>|t|</th>  <th>[0.025</th>    <th>0.975]</th>  \n",
       "</tr>\n",
       "<tr>\n",
       "  <th>Intercept</th>     <td>    3.4313</td> <td>    0.316</td> <td>   10.873</td> <td> 0.000</td> <td>    2.813</td> <td>    4.050</td>\n",
       "</tr>\n",
       "<tr>\n",
       "  <th>longest_shell</th> <td>   10.5824</td> <td>    0.907</td> <td>   11.666</td> <td> 0.000</td> <td>    8.804</td> <td>   12.361</td>\n",
       "</tr>\n",
       "<tr>\n",
       "  <th>whole_weight</th>  <td>    1.1550</td> <td>    0.222</td> <td>    5.200</td> <td> 0.000</td> <td>    0.720</td> <td>    1.591</td>\n",
       "</tr>\n",
       "</table>\n",
       "<table class=\"simpletable\">\n",
       "<tr>\n",
       "  <th>Omnibus:</th>       <td>1380.300</td> <th>  Durbin-Watson:     </th> <td>   0.943</td>\n",
       "</tr>\n",
       "<tr>\n",
       "  <th>Prob(Omnibus):</th>  <td> 0.000</td>  <th>  Jarque-Bera (JB):  </th> <td>4440.751</td>\n",
       "</tr>\n",
       "<tr>\n",
       "  <th>Skew:</th>           <td> 1.687</td>  <th>  Prob(JB):          </th> <td>    0.00</td>\n",
       "</tr>\n",
       "<tr>\n",
       "  <th>Kurtosis:</th>       <td> 6.759</td>  <th>  Cond. No.          </th> <td>    34.2</td>\n",
       "</tr>\n",
       "</table><br/><br/>Notes:<br/>[1] Standard Errors assume that the covariance matrix of the errors is correctly specified."
      ],
      "text/plain": [
       "<class 'statsmodels.iolib.summary.Summary'>\n",
       "\"\"\"\n",
       "                            OLS Regression Results                            \n",
       "==============================================================================\n",
       "Dep. Variable:                  rings   R-squared:                       0.314\n",
       "Model:                            OLS   Adj. R-squared:                  0.314\n",
       "Method:                 Least Squares   F-statistic:                     956.9\n",
       "Date:                Tue, 28 Mar 2023   Prob (F-statistic):               0.00\n",
       "Time:                        17:54:54   Log-Likelihood:                -10028.\n",
       "No. Observations:                4177   AIC:                         2.006e+04\n",
       "Df Residuals:                    4174   BIC:                         2.008e+04\n",
       "Df Model:                           2                                         \n",
       "Covariance Type:            nonrobust                                         \n",
       "=================================================================================\n",
       "                    coef    std err          t      P>|t|      [0.025      0.975]\n",
       "---------------------------------------------------------------------------------\n",
       "Intercept         3.4313      0.316     10.873      0.000       2.813       4.050\n",
       "longest_shell    10.5824      0.907     11.666      0.000       8.804      12.361\n",
       "whole_weight      1.1550      0.222      5.200      0.000       0.720       1.591\n",
       "==============================================================================\n",
       "Omnibus:                     1380.300   Durbin-Watson:                   0.943\n",
       "Prob(Omnibus):                  0.000   Jarque-Bera (JB):             4440.751\n",
       "Skew:                           1.687   Prob(JB):                         0.00\n",
       "Kurtosis:                       6.759   Cond. No.                         34.2\n",
       "==============================================================================\n",
       "\n",
       "Notes:\n",
       "[1] Standard Errors assume that the covariance matrix of the errors is correctly specified.\n",
       "\"\"\""
      ]
     },
     "execution_count": 19,
     "metadata": {},
     "output_type": "execute_result"
    }
   ],
   "source": [
    "stats_lm = smf.ols('rings ~ longest_shell + whole_weight', data= abalone).fit()\n",
    "stats_lm.summary()"
   ]
  },
  {
   "cell_type": "markdown",
   "id": "a793cd68",
   "metadata": {},
   "source": [
    "In the summary function you can retrieve very easily the fitted coefficients and various model metrics based on the model itself and the training data."
   ]
  },
  {
   "cell_type": "markdown",
   "id": "fefe95b7",
   "metadata": {},
   "source": [
    "Nevertheless, self-defined functions can be used for assessing models from sklearn:"
   ]
  },
  {
   "cell_type": "code",
   "execution_count": 20,
   "id": "464ec44d",
   "metadata": {},
   "outputs": [],
   "source": [
    "def regression_results(y_true, y_pred):  \n",
    "    \"\"\" \n",
    "    Method to produce model metrics for training data\n",
    "    Input: training response vector as array, prediction vector as array\n",
    "    Output: -\n",
    "    \"\"\"\n",
    "    # Regression metrics\n",
    "    explained_variance=metrics.explained_variance_score(y_true, y_pred)\n",
    "    mean_absolute_error=metrics.mean_absolute_error(y_true, y_pred) \n",
    "    mse=metrics.mean_squared_error(y_true, y_pred) \n",
    "    mean_squared_log_error=metrics.mean_squared_log_error(y_true, y_pred)\n",
    "    median_absolute_error=metrics.median_absolute_error(y_true, y_pred)\n",
    "    r2=metrics.r2_score(y_true, y_pred)\n",
    "\n",
    "    print('explained_variance: ', round(explained_variance,4))    \n",
    "    print('mean_squared_log_error: ', round(mean_squared_log_error,4))\n",
    "    print('r2: ', round(r2,4))\n",
    "    print('MAE: ', round(mean_absolute_error,4))\n",
    "    print('MSE: ', round(mse,4))\n",
    "    print('RMSE: ', round(np.sqrt(mse),4))\n",
    "    print('Median Absolut Error: ', round(median_absolute_error,4))"
   ]
  },
  {
   "cell_type": "code",
   "execution_count": 21,
   "id": "404ba3f1",
   "metadata": {},
   "outputs": [
    {
     "name": "stdout",
     "output_type": "stream",
     "text": [
      "explained_variance:  0.3144\n",
      "mean_squared_log_error:  0.0471\n",
      "r2:  0.3144\n",
      "MAE:  1.9507\n",
      "MSE:  7.1255\n",
      "RMSE:  2.6694\n",
      "Median Absolut Error:  1.5254\n"
     ]
    }
   ],
   "source": [
    "regression_results(y_lm, pred_lm)"
   ]
  }
 ],
 "metadata": {
  "kernelspec": {
   "display_name": "python-i2ml",
   "language": "python",
   "name": "python-i2ml"
  },
  "language_info": {
   "codemirror_mode": {
    "name": "ipython",
    "version": 3
   },
   "file_extension": ".py",
   "mimetype": "text/x-python",
   "name": "python",
   "nbconvert_exporter": "python",
   "pygments_lexer": "ipython3",
   "version": "3.10.12"
  },
  "title": "Exercise sheet 2: Supervised Regression"
 },
 "nbformat": 4,
 "nbformat_minor": 5
}
