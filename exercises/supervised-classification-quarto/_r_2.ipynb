{
 "cells": [
  {
   "cell_type": "code",
   "execution_count": 1,
   "metadata": {
    "vscode": {
     "languageId": "r"
    }
   },
   "outputs": [
    {
     "data": {
      "text/plain": [
       "<PredictionClassif> for 1 observations:\n",
       " row_ids truth response   prob.no  prob.yes\n",
       "       1  <NA>       no 0.5901639 0.4098361"
      ]
     },
     "metadata": {},
     "output_type": "display_data"
    }
   ],
   "source": [
    "df_banana <- data.frame(\n",
    "  color = as.factor(\n",
    "    c(\"yellow\", \"yellow\", \"yellow\", \"brown\", \"brown\", \"green\", \"green\", \"red\")),\n",
    "  form = as.factor(\n",
    "    c(\"oblong\", \"round\", \"oblong\", \"oblong\", \"round\", \"round\", \"oblong\", \"round\")),\n",
    "  origin = as.factor(\n",
    "    c(\"imported\", \"domestic\", \"imported\", \"imported\", \"domestic\", \"imported\",\n",
    "    \"domestic\", \"imported\")),\n",
    "  banana = as.factor(c(\"yes\", \"no\", \"no\", \"yes\", \"no\", \"yes\", \"no\", \"no\")))\n",
    "\n",
    "new_fruit <- data.frame(color = \"yellow\", form = \"round\", origin = \"imported\")\n",
    "\n",
    "library(mlr3)\n",
    "library(mlr3learners)\n",
    "\n",
    "nb_learner <- lrn(\"classif.naive_bayes\", predict_type = \"prob\")\n",
    "\n",
    "banana_task <- TaskClassif$new(\n",
    "  id = \"banana\",\n",
    "  backend = df_banana,\n",
    "  target = \"banana\")\n",
    "\n",
    "nb_learner$train(banana_task)\n",
    "nb_learner$predict_newdata(new_fruit)\n",
    "\n"
   ]
  }
 ],
 "metadata": {
  "kernelspec": {
   "display_name": "R",
   "language": "R",
   "name": "ir"
  },
  "language_info": {
   "codemirror_mode": "r",
   "file_extension": ".r",
   "mimetype": "text/x-r-source",
   "name": "R",
   "pygments_lexer": "r",
   "version": "4.2.0"
  }
 },
 "nbformat": 4,
 "nbformat_minor": 2
}
