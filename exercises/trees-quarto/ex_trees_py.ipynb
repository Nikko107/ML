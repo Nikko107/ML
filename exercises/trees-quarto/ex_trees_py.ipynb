{
 "cells": [
  {
   "cell_type": "markdown",
   "id": "8951982b",
   "metadata": {},
   "source": [
    "***\n",
    "**Introduction to Machine Learning** <br>\n",
    "__[https://slds-lmu.github.io/i2ml/](https://slds-lmu.github.io/i2ml/)__\n",
    "***"
   ]
  },
  {
   "cell_type": "markdown",
   "id": "36c9e858",
   "metadata": {},
   "source": [
    "# Exercise sheet 8: CART"
   ]
  },
  {
   "cell_type": "markdown",
   "id": "b881341c",
   "metadata": {},
   "source": [
    "## Exercise 1: Splitting criteria"
   ]
  },
  {
   "cell_type": "markdown",
   "id": "61afb778",
   "metadata": {},
   "source": [
    "Given are the data set"
   ]
  },
  {
   "cell_type": "markdown",
   "id": "6cc8aa25",
   "metadata": {},
   "source": [
    "| x | y |\n",
    "| --- | --- |\n",
    "| 1.0 | 1.0 | \n",
    "| 2.0 | 1.0 | \n",
    "| 7.0 | 0.5 | \n",
    "| 10.0 | 10.0 | \n",
    "| 20.0 | 11.0 | "
   ]
  },
  {
   "cell_type": "markdown",
   "id": "fe0df48c",
   "metadata": {},
   "source": [
    "and the same with log-transformed feature $x$:\n"
   ]
  },
  {
   "cell_type": "markdown",
   "id": "854cfced",
   "metadata": {},
   "source": [
    "| log x | y |\n",
    "| --- | --- |\n",
    "| 0.0 | 1.0 | \n",
    "| 0.7 | 1.0 | \n",
    "| 1.9 | 0.5 | \n",
    "| 2.3 | 10.0 | \n",
    "| 3.0 | 11.0 | "
   ]
  },
  {
   "cell_type": "markdown",
   "id": "7c337bcb",
   "metadata": {},
   "source": [
    "> a) Compute the first split point the CART algorithm would find for each data set (with pen and paper or in `R`,\n",
    "resp. `Python`)."
   ]
  },
  {
   "cell_type": "code",
   "execution_count": null,
   "id": "1ea7160d",
   "metadata": {},
   "outputs": [],
   "source": [
    "# Enter your code here:"
   ]
  },
  {
   "cell_type": "markdown",
   "id": "84678745",
   "metadata": {},
   "source": [
    "> b) State the optimal constant predictor for a node $\\mathcal{N}$ when minimizing the empirical risk under $L2$ loss and explain\n",
    "why this is equivalent to minimizing “variance impurity”."
   ]
  },
  {
   "cell_type": "markdown",
   "id": "3ba0f35d",
   "metadata": {},
   "source": [
    "Enter your answer here:\n"
   ]
  }
 ],
 "metadata": {
  "kernelspec": {
   "display_name": "python-i2ml",
   "language": "python",
   "name": "python-i2ml"
  },
  "language_info": {
   "codemirror_mode": {
    "name": "ipython",
    "version": 3
   },
   "file_extension": ".py",
   "mimetype": "text/x-python",
   "name": "python",
   "nbconvert_exporter": "python",
   "pygments_lexer": "ipython3",
   "version": "3.10.12"
  }
 },
 "nbformat": 4,
 "nbformat_minor": 5
}
