{
  "cells": [
    {
      "cell_type": "code",
      "source": [
        "install.packages(\"mlr3verse\")"
      ],
      "metadata": {
        "colab": {
          "base_uri": "https://localhost:8080/"
        },
        "id": "M61wCAJbHowe",
        "outputId": "6d5f5da6-d5b4-4374-dbd1-8891e952b438",
        "ExecuteTime": {
          "end_time": "2023-11-08T15:09:28.065987930Z",
          "start_time": "2023-11-08T15:09:27.948819279Z"
        }
      },
      "id": "M61wCAJbHowe",
      "execution_count": 1,
      "outputs": [
        {
          "output_type": "stream",
          "name": "stderr",
          "text": [
            "Installing package into ‘/usr/local/lib/R/site-library’\n",
            "(as ‘lib’ is unspecified)\n",
            "\n",
            "also installing the dependencies ‘modeltools’, ‘DEoptimR’, ‘globals’, ‘listenv’, ‘PRROC’, ‘mclust’, ‘flexmix’, ‘prabclus’, ‘diptest’, ‘robustbase’, ‘kernlab’, ‘Rcpp’, ‘gridExtra’, ‘checkmate’, ‘future’, ‘future.apply’, ‘lgr’, ‘mlbench’, ‘mlr3measures’, ‘parallelly’, ‘palmerpenguins’, ‘clue’, ‘fpc’, ‘spacefillr’, ‘viridis’, ‘mlr3’, ‘bbotk’, ‘mlr3cluster’, ‘mlr3data’, ‘mlr3filters’, ‘mlr3fselect’, ‘mlr3hyperband’, ‘mlr3learners’, ‘mlr3mbo’, ‘mlr3misc’, ‘mlr3pipelines’, ‘mlr3tuning’, ‘mlr3tuningspaces’, ‘mlr3viz’, ‘paradox’\n",
            "\n",
            "\n"
          ]
        }
      ]
    },
    {
      "cell_type": "code",
      "execution_count": 2,
      "outputs": [
        {
          "output_type": "stream",
          "name": "stderr",
          "text": [
            "Loading required package: mlr3\n",
            "\n"
          ]
        }
      ],
      "source": [
        "#| label: import\n",
        "\n",
        "library(mlr3verse)"
      ],
      "metadata": {
        "id": "c59ab270cc84282f",
        "ExecuteTime": {
          "end_time": "2023-11-08T15:09:32.131076170Z",
          "start_time": "2023-11-08T15:09:32.103909781Z"
        },
        "colab": {
          "base_uri": "https://localhost:8080/"
        },
        "outputId": "1722ecbb-5b2a-483f-ad8a-53dec3689108"
      },
      "id": "c59ab270cc84282f"
    },
    {
      "cell_type": "code",
      "execution_count": 4,
      "id": "initial_id",
      "metadata": {
        "collapsed": true,
        "colab": {
          "base_uri": "https://localhost:8080/",
          "height": 156
        },
        "id": "initial_id",
        "outputId": "d3ee8d5d-b0af-44a5-fe78-c2dab9846f88"
      },
      "outputs": [
        {
          "output_type": "stream",
          "name": "stdout",
          "text": [
            "<LearnerRegrLM:regr.lm>\n",
            "* Model: -\n",
            "* Parameters: list()\n",
            "* Packages: mlr3, mlr3learners, stats\n",
            "* Predict Types:  [response], se\n",
            "* Feature Types: logical, integer, numeric, character, factor\n",
            "* Properties: loglik, weights\n"
          ]
        },
        {
          "output_type": "display_data",
          "data": {
            "text/html": [
              "'Model MSE: 15.10'"
            ],
            "text/markdown": "'Model MSE: 15.10'",
            "text/latex": "'Model MSE: 15.10'",
            "text/plain": [
              "[1] \"Model MSE: 15.10\""
            ]
          },
          "metadata": {}
        }
      ],
      "source": [
        "#| label: hro\n",
        "\n",
        "# You initialize your `learner` with its properties defined by the parameters\n",
        "model <- lrn(\"regr.lm\")\n",
        "print(model)\n",
        "# Before training them on actual data, they just contain information on the\n",
        "# functional form of f. Once a learner has been trained we can examine the\n",
        "# parameters of the resulting model.\n",
        "x <- seq(0, 8, by = 0.01)\n",
        "set.seed(42)\n",
        "y <- -1 + 3 * x + rnorm(mean = 0, sd = 4, n = length(x))\n",
        "dt <- data.frame(x = x, y = y)\n",
        "task <- TaskRegr$new(id = \"mytask\", backend = dt, target = \"y\")\n",
        "# Optimization happens rather implicitly as sklearn only acts as a wrapper for\n",
        "# existing implementations and calls package-specific optimization procedures\n",
        "# within the function `model.fit()`:\n",
        "model$train(task)\n",
        "sprintf(\"Model MSE: %.2f\", model$predict_newdata(dt)$score())"
      ]
    },
    {
      "cell_type": "code",
      "source": [
        "#| label: iris\n",
        "\n",
        "tsk(\"iris\")"
      ],
      "metadata": {
        "colab": {
          "base_uri": "https://localhost:8080/",
          "height": 104
        },
        "id": "K7TX4Lep06Pp",
        "outputId": "a0fc5647-528c-49bc-da8d-46942fc7be31"
      },
      "id": "K7TX4Lep06Pp",
      "execution_count": 5,
      "outputs": [
        {
          "output_type": "display_data",
          "data": {
            "text/plain": [
              "<TaskClassif:iris> (150 x 5): Iris Flowers\n",
              "* Target: Species\n",
              "* Properties: multiclass\n",
              "* Features (4):\n",
              "  - dbl (4): Petal.Length, Petal.Width, Sepal.Length, Sepal.Width"
            ]
          },
          "metadata": {}
        }
      ]
    },
    {
      "cell_type": "code",
      "source": [
        "#| label: learner\n",
        "\n",
        "# List available learners in base mlr3 package\n",
        "mlr_learners$keys()\n",
        "\n",
        "# Inspect regression tree learner\n",
        "lrn(\"regr.rpart\")\n",
        "\n",
        "# List configurable hyperparameters\n",
        "lrn(\"regr.rpart\")$param_set"
      ],
      "metadata": {
        "colab": {
          "base_uri": "https://localhost:8080/",
          "height": 399
        },
        "id": "gY7tnhtL1FCf",
        "outputId": "a623f133-17a0-46c9-894d-d06092d8a01b"
      },
      "id": "gY7tnhtL1FCf",
      "execution_count": 9,
      "outputs": [
        {
          "output_type": "display_data",
          "data": {
            "text/html": [
              "<style>\n",
              ".list-inline {list-style: none; margin:0; padding: 0}\n",
              ".list-inline>li {display: inline-block}\n",
              ".list-inline>li:not(:last-child)::after {content: \"\\00b7\"; padding: 0 .5ex}\n",
              "</style>\n",
              "<ol class=list-inline><li>'classif.cv_glmnet'</li><li>'classif.debug'</li><li>'classif.featureless'</li><li>'classif.glmnet'</li><li>'classif.kknn'</li><li>'classif.lda'</li><li>'classif.log_reg'</li><li>'classif.multinom'</li><li>'classif.naive_bayes'</li><li>'classif.nnet'</li><li>'classif.qda'</li><li>'classif.ranger'</li><li>'classif.rpart'</li><li>'classif.svm'</li><li>'classif.xgboost'</li><li>'clust.agnes'</li><li>'clust.ap'</li><li>'clust.cmeans'</li><li>'clust.cobweb'</li><li>'clust.dbscan'</li><li>'clust.diana'</li><li>'clust.em'</li><li>'clust.fanny'</li><li>'clust.featureless'</li><li>'clust.ff'</li><li>'clust.hclust'</li><li>'clust.kkmeans'</li><li>'clust.kmeans'</li><li>'clust.MBatchKMeans'</li><li>'clust.mclust'</li><li>'clust.meanshift'</li><li>'clust.pam'</li><li>'clust.SimpleKMeans'</li><li>'clust.xmeans'</li><li>'regr.cv_glmnet'</li><li>'regr.debug'</li><li>'regr.featureless'</li><li>'regr.glmnet'</li><li>'regr.kknn'</li><li>'regr.km'</li><li>'regr.lm'</li><li>'regr.nnet'</li><li>'regr.ranger'</li><li>'regr.rpart'</li><li>'regr.svm'</li><li>'regr.xgboost'</li></ol>\n"
            ],
            "text/markdown": "1. 'classif.cv_glmnet'\n2. 'classif.debug'\n3. 'classif.featureless'\n4. 'classif.glmnet'\n5. 'classif.kknn'\n6. 'classif.lda'\n7. 'classif.log_reg'\n8. 'classif.multinom'\n9. 'classif.naive_bayes'\n10. 'classif.nnet'\n11. 'classif.qda'\n12. 'classif.ranger'\n13. 'classif.rpart'\n14. 'classif.svm'\n15. 'classif.xgboost'\n16. 'clust.agnes'\n17. 'clust.ap'\n18. 'clust.cmeans'\n19. 'clust.cobweb'\n20. 'clust.dbscan'\n21. 'clust.diana'\n22. 'clust.em'\n23. 'clust.fanny'\n24. 'clust.featureless'\n25. 'clust.ff'\n26. 'clust.hclust'\n27. 'clust.kkmeans'\n28. 'clust.kmeans'\n29. 'clust.MBatchKMeans'\n30. 'clust.mclust'\n31. 'clust.meanshift'\n32. 'clust.pam'\n33. 'clust.SimpleKMeans'\n34. 'clust.xmeans'\n35. 'regr.cv_glmnet'\n36. 'regr.debug'\n37. 'regr.featureless'\n38. 'regr.glmnet'\n39. 'regr.kknn'\n40. 'regr.km'\n41. 'regr.lm'\n42. 'regr.nnet'\n43. 'regr.ranger'\n44. 'regr.rpart'\n45. 'regr.svm'\n46. 'regr.xgboost'\n\n\n",
            "text/latex": "\\begin{enumerate*}\n\\item 'classif.cv\\_glmnet'\n\\item 'classif.debug'\n\\item 'classif.featureless'\n\\item 'classif.glmnet'\n\\item 'classif.kknn'\n\\item 'classif.lda'\n\\item 'classif.log\\_reg'\n\\item 'classif.multinom'\n\\item 'classif.naive\\_bayes'\n\\item 'classif.nnet'\n\\item 'classif.qda'\n\\item 'classif.ranger'\n\\item 'classif.rpart'\n\\item 'classif.svm'\n\\item 'classif.xgboost'\n\\item 'clust.agnes'\n\\item 'clust.ap'\n\\item 'clust.cmeans'\n\\item 'clust.cobweb'\n\\item 'clust.dbscan'\n\\item 'clust.diana'\n\\item 'clust.em'\n\\item 'clust.fanny'\n\\item 'clust.featureless'\n\\item 'clust.ff'\n\\item 'clust.hclust'\n\\item 'clust.kkmeans'\n\\item 'clust.kmeans'\n\\item 'clust.MBatchKMeans'\n\\item 'clust.mclust'\n\\item 'clust.meanshift'\n\\item 'clust.pam'\n\\item 'clust.SimpleKMeans'\n\\item 'clust.xmeans'\n\\item 'regr.cv\\_glmnet'\n\\item 'regr.debug'\n\\item 'regr.featureless'\n\\item 'regr.glmnet'\n\\item 'regr.kknn'\n\\item 'regr.km'\n\\item 'regr.lm'\n\\item 'regr.nnet'\n\\item 'regr.ranger'\n\\item 'regr.rpart'\n\\item 'regr.svm'\n\\item 'regr.xgboost'\n\\end{enumerate*}\n",
            "text/plain": [
              " [1] \"classif.cv_glmnet\"   \"classif.debug\"       \"classif.featureless\"\n",
              " [4] \"classif.glmnet\"      \"classif.kknn\"        \"classif.lda\"        \n",
              " [7] \"classif.log_reg\"     \"classif.multinom\"    \"classif.naive_bayes\"\n",
              "[10] \"classif.nnet\"        \"classif.qda\"         \"classif.ranger\"     \n",
              "[13] \"classif.rpart\"       \"classif.svm\"         \"classif.xgboost\"    \n",
              "[16] \"clust.agnes\"         \"clust.ap\"            \"clust.cmeans\"       \n",
              "[19] \"clust.cobweb\"        \"clust.dbscan\"        \"clust.diana\"        \n",
              "[22] \"clust.em\"            \"clust.fanny\"         \"clust.featureless\"  \n",
              "[25] \"clust.ff\"            \"clust.hclust\"        \"clust.kkmeans\"      \n",
              "[28] \"clust.kmeans\"        \"clust.MBatchKMeans\"  \"clust.mclust\"       \n",
              "[31] \"clust.meanshift\"     \"clust.pam\"           \"clust.SimpleKMeans\" \n",
              "[34] \"clust.xmeans\"        \"regr.cv_glmnet\"      \"regr.debug\"         \n",
              "[37] \"regr.featureless\"    \"regr.glmnet\"         \"regr.kknn\"          \n",
              "[40] \"regr.km\"             \"regr.lm\"             \"regr.nnet\"          \n",
              "[43] \"regr.ranger\"         \"regr.rpart\"          \"regr.svm\"           \n",
              "[46] \"regr.xgboost\"       "
            ]
          },
          "metadata": {}
        },
        {
          "output_type": "display_data",
          "data": {
            "text/plain": [
              "<LearnerRegrRpart:regr.rpart>: Regression Tree\n",
              "* Model: -\n",
              "* Parameters: xval=0\n",
              "* Packages: mlr3, rpart\n",
              "* Predict Types:  [response]\n",
              "* Feature Types: logical, integer, numeric, factor, ordered\n",
              "* Properties: importance, missings, selected_features, weights"
            ]
          },
          "metadata": {}
        },
        {
          "output_type": "display_data",
          "data": {
            "text/plain": [
              "<ParamSet>\n",
              "                id    class lower upper nlevels        default value\n",
              " 1:             cp ParamDbl     0     1     Inf           0.01      \n",
              " 2:     keep_model ParamLgl    NA    NA       2          FALSE      \n",
              " 3:     maxcompete ParamInt     0   Inf     Inf              4      \n",
              " 4:       maxdepth ParamInt     1    30      30             30      \n",
              " 5:   maxsurrogate ParamInt     0   Inf     Inf              5      \n",
              " 6:      minbucket ParamInt     1   Inf     Inf <NoDefault[3]>      \n",
              " 7:       minsplit ParamInt     1   Inf     Inf             20      \n",
              " 8: surrogatestyle ParamInt     0     1       2              0      \n",
              " 9:   usesurrogate ParamInt     0     2       3              2      \n",
              "10:           xval ParamInt     0   Inf     Inf             10     0"
            ]
          },
          "metadata": {}
        }
      ]
    }
  ],
  "metadata": {
    "kernelspec": {
      "name": "ir",
      "display_name": "R"
    },
    "language_info": {
      "name": "R"
    },
    "colab": {
      "provenance": []
    }
  },
  "nbformat": 4,
  "nbformat_minor": 5
}