{
  "cells": [
    {
      "cell_type": "code",
      "source": [
        "install.packages(\"mlr3verse\")"
      ],
      "metadata": {
        "colab": {
          "base_uri": "https://localhost:8080/"
        },
        "id": "M61wCAJbHowe",
        "outputId": "4b792c95-8cf9-4654-b4a2-88616db01520"
      },
      "id": "M61wCAJbHowe",
      "execution_count": 6,
      "outputs": [
        {
          "output_type": "stream",
          "name": "stderr",
          "text": [
            "Installing package into ‘/usr/local/lib/R/site-library’\n",
            "(as ‘lib’ is unspecified)\n",
            "\n",
            "also installing the dependencies ‘modeltools’, ‘DEoptimR’, ‘mclust’, ‘flexmix’, ‘prabclus’, ‘diptest’, ‘robustbase’, ‘kernlab’, ‘Rcpp’, ‘gridExtra’, ‘clue’, ‘fpc’, ‘spacefillr’, ‘viridis’, ‘bbotk’, ‘mlr3cluster’, ‘mlr3data’, ‘mlr3filters’, ‘mlr3fselect’, ‘mlr3hyperband’, ‘mlr3learners’, ‘mlr3mbo’, ‘mlr3pipelines’, ‘mlr3tuning’, ‘mlr3tuningspaces’, ‘mlr3viz’\n",
            "\n",
            "\n"
          ]
        }
      ]
    },
    {
      "cell_type": "code",
      "execution_count": 7,
      "outputs": [],
      "source": [
        "#| label: import\n",
        "\n",
        "library(mlr3verse)"
      ],
      "metadata": {
        "id": "c59ab270cc84282f"
      },
      "id": "c59ab270cc84282f"
    },
    {
      "cell_type": "code",
      "execution_count": 20,
      "id": "initial_id",
      "metadata": {
        "collapsed": true,
        "colab": {
          "base_uri": "https://localhost:8080/",
          "height": 156
        },
        "id": "initial_id",
        "outputId": "557253d4-04a4-4742-98a8-aaa4f8610ad5"
      },
      "outputs": [
        {
          "output_type": "stream",
          "name": "stdout",
          "text": [
            "<LearnerRegrLM:regr.lm>\n",
            "* Model: -\n",
            "* Parameters: list()\n",
            "* Packages: mlr3, mlr3learners, stats\n",
            "* Predict Types:  [response], se\n",
            "* Feature Types: logical, integer, numeric, character, factor\n",
            "* Properties: loglik, weights\n"
          ]
        },
        {
          "output_type": "display_data",
          "data": {
            "text/html": [
              "'Model MSE: 15.10'"
            ],
            "text/markdown": "'Model MSE: 15.10'",
            "text/latex": "'Model MSE: 15.10'",
            "text/plain": [
              "[1] \"Model MSE: 15.10\""
            ]
          },
          "metadata": {}
        }
      ],
      "source": [
        "#| label: hro\n",
        "\n",
        "# You initialize your \"learner\" or model with its properties defined by the\n",
        "# parameters, e.g.,:\n",
        "model <- lrn(\"regr.lm\")\n",
        "# Before training them on actual data, they just contain information on the\n",
        "# functional form of f. Once a learner has been trained we can examine the\n",
        "# parameters of the resulting model.\n",
        "print(model)\n",
        "x <- seq(0, 8, by = 0.01)\n",
        "set.seed(42)\n",
        "y <- -1 + 3 * x + rnorm(mean = 0, sd = 4, n = length(x))\n",
        "dt <- data.frame(x = x, y = y)\n",
        "task = TaskRegr$new(id = \"mytask\", backend = dt, target = \"y\")\n",
        "# Optimization happens rather implicitly as sklearn only acts as a wrapper for\n",
        "# existing implementations and calls package-specific optimization procedures\n",
        "# within the function `model.fit()`:\n",
        "model$train(task)\n",
        "pred = model$predict_newdata(dt)\n",
        "sprintf(\"Model MSE: %.2f\", pred$score())"
      ]
    }
  ],
  "metadata": {
    "kernelspec": {
      "display_name": "R",
      "name": "ir"
    },
    "language_info": {
      "name": "R"
    },
    "colab": {
      "provenance": []
    }
  },
  "nbformat": 4,
  "nbformat_minor": 5
}