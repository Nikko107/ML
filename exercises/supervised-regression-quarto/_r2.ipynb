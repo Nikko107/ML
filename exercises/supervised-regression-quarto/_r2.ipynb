{
 "cells": [
  {
   "cell_type": "code",
   "execution_count": null,
   "id": "initial_id",
   "metadata": {
    "collapsed": true
   },
   "outputs": [],
   "source": [
    "#| label: import\n",
    "\n",
    "library(mlr3verse)"
   ]
  },
  {
   "cell_type": "code",
   "execution_count": null,
   "outputs": [],
   "source": [
    "#| label: hro\n",
    "\n",
    "# You initialize your \"learner\" or model with its properties defined by the \n",
    "# parameters, e.g.,:\n",
    "model <- lrn(\"regr.lm\")\n",
    "# Before training them on actual data, they just contain information on the \n",
    "# functional form of f. Once a learner has been trained we can examine the \n",
    "# parameters of the resulting model.\n",
    "print(model)\n",
    "x <- seq(0, 8, by = 0.01)\n",
    "set.seed(42)\n",
    "y <- -1 + 3 * x + rnorm(mean = 0, sd = 4, n = length(x))\n",
    "dt <- data.frame(x = x, y = y)\n",
    "task = TaskRegr$new(id = \"mytask\", backend = dt, target = \"y\")\n",
    "# Optimization happens rather implicitly as sklearn only acts as a wrapper for \n",
    "# existing implementations and calls package-specific optimization procedures \n",
    "# within the function `model.fit()`:\n",
    "model$train(task)\n",
    "pred = model$predict_newdata(dt)\n",
    "sprintf(\"Model MSE: %.2f\", pred$score())"
   ],
   "metadata": {
    "collapsed": false
   },
   "id": "8ec6bd1b8ce28190"
  }
 ],
 "metadata": {
  "kernelspec": {
   "display_name": "Python 3",
   "language": "python",
   "name": "python3"
  },
  "language_info": {
   "codemirror_mode": {
    "name": "ipython",
    "version": 2
   },
   "file_extension": ".py",
   "mimetype": "text/x-python",
   "name": "python",
   "nbconvert_exporter": "python",
   "pygments_lexer": "ipython2",
   "version": "2.7.6"
  }
 },
 "nbformat": 4,
 "nbformat_minor": 5
}
