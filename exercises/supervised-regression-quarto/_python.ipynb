{
  "cells": [
    {
      "cell_type": "code",
      "execution_count": 22,
      "id": "initial_id",
      "metadata": {
        "collapsed": true,
        "ExecuteTime": {
          "end_time": "2023-11-06T15:41:40.618739160Z",
          "start_time": "2023-11-06T15:41:40.514155193Z"
        },
        "id": "initial_id"
      },
      "outputs": [],
      "source": [
        "#| label: import\n",
        "\n",
        "# general\n",
        "import numpy as np\n",
        "import pandas as pd\n",
        "import math\n",
        "# plots\n",
        "import matplotlib.pyplot as plt\n",
        "import seaborn as sns\n",
        "# sklearn\n",
        "from sklearn.datasets import load_iris\n",
        "from sklearn.tree import DecisionTreeRegressor\n",
        "from sklearn.linear_model import LinearRegression\n",
        "import sklearn.metrics as metrics\n",
        "from sklearn.metrics import mean_absolute_error\n"
      ]
    },
    {
      "cell_type": "markdown",
      "source": [
        "# Python 1"
      ],
      "metadata": {
        "id": "6IZ6SzocUhR5"
      },
      "id": "6IZ6SzocUhR5"
    },
    {
      "cell_type": "code",
      "execution_count": 23,
      "outputs": [
        {
          "output_type": "stream",
          "name": "stdout",
          "text": [
            "LinearRegression()\n",
            "Model MSE:  15.461825608784347\n"
          ]
        }
      ],
      "source": [
        "#| label: hro-objects\n",
        "\n",
        "# You initialize your \"learner\" or model with its properties defined by the\n",
        "# parameters, e.g.,:\n",
        "model = LinearRegression(fit_intercept=True)\n",
        "# Before training them on actual data, they just contain information on the\n",
        "# functional form of f. Once a learner has been trained we can examine the\n",
        "# parameters of the resulting model.\n",
        "print(model)\n",
        "x = np.arange(0, 8, 0.01)\n",
        "np.random.seed(42)\n",
        "y = -1 + 3*x + np.random.normal(loc=0.0, scale=4, size=len(x))\n",
        "# Optimization happens rather implicitly as sklearn only acts as a wrapper for\n",
        "# existing implementations and calls package-specific optimization procedures\n",
        "# within the function `model.fit()`:\n",
        "model.fit(x.reshape(-1, 1),y) # reshape for one feature design matrix\n",
        "print(\n",
        "    'Model MSE: ', metrics.mean_squared_error(y, model.predict(x.reshape(-1, 1)))\n",
        ")"
      ],
      "metadata": {
        "ExecuteTime": {
          "end_time": "2023-11-06T15:54:34.964468968Z",
          "start_time": "2023-11-06T15:54:34.918473806Z"
        },
        "colab": {
          "base_uri": "https://localhost:8080/"
        },
        "id": "a22f4eb5d1ce5d6",
        "outputId": "d112da7f-6f97-4503-87bf-fc83a10fe8ea"
      },
      "id": "a22f4eb5d1ce5d6"
    },
    {
      "cell_type": "code",
      "execution_count": 24,
      "outputs": [
        {
          "output_type": "stream",
          "name": "stdout",
          "text": [
            "Type of object iris: <class 'sklearn.utils._bunch.Bunch'>\n",
            "Feature names: ['sepal length (cm)', 'sepal width (cm)', 'petal length (cm)', 'petal width (cm)']\n",
            "Target names: ['setosa' 'versicolor' 'virginica']\n",
            "\n",
            "Shape of X and y\n",
            " (150, 4) (150,)\n",
            "\n",
            "Type of X and y\n",
            " <class 'numpy.ndarray'> <class 'numpy.ndarray'>\n"
          ]
        }
      ],
      "source": [
        "#| label: hro-task\n",
        "\n",
        "iris = load_iris()\n",
        "X = iris.data\n",
        "y = iris.target\n",
        "feature_names = iris.feature_names\n",
        "target_names = iris.target_names\n",
        "print(\"Type of object iris:\", type(iris))\n",
        "print(\"Feature names:\", feature_names)\n",
        "print(\"Target names:\", target_names)\n",
        "print(\"\\nShape of X and y\\n\", X.shape, y.shape)\n",
        "print(\"\\nType of X and y\\n\", type(X), type(y))"
      ],
      "metadata": {
        "ExecuteTime": {
          "end_time": "2023-11-06T15:59:49.752734Z",
          "start_time": "2023-11-06T15:59:49.709545913Z"
        },
        "colab": {
          "base_uri": "https://localhost:8080/"
        },
        "id": "a293d7fefb2e8baf",
        "outputId": "4537e8c1-2543-4b62-cd79-0a2ea76b444f"
      },
      "id": "a293d7fefb2e8baf"
    },
    {
      "cell_type": "code",
      "execution_count": 25,
      "outputs": [
        {
          "output_type": "stream",
          "name": "stdout",
          "text": [
            "DecisionTreeRegressor()\n",
            "ccp_alpha: 0.0\n",
            "criterion: squared_error\n",
            "max_depth: None\n",
            "max_features: None\n",
            "max_leaf_nodes: None\n",
            "min_impurity_decrease: 0.0\n",
            "min_samples_leaf: 1\n",
            "min_samples_split: 2\n",
            "min_weight_fraction_leaf: 0.0\n",
            "random_state: None\n",
            "splitter: best\n"
          ]
        }
      ],
      "source": [
        "# | label: hro-learner\n",
        "\n",
        "# help(DecisionTreeRegressor)\n",
        "\n",
        "# Inspect regression tree learner\n",
        "rtree = DecisionTreeRegressor() # default setting\n",
        "print(rtree)\n",
        "\n",
        "# List configurable hyperparameters\n",
        "[print(f'{k}: {v}') for k, v in rtree.get_params().items()][0]"
      ],
      "metadata": {
        "ExecuteTime": {
          "end_time": "2023-11-06T16:06:31.753055060Z",
          "start_time": "2023-11-06T16:06:31.707252693Z"
        },
        "colab": {
          "base_uri": "https://localhost:8080/"
        },
        "id": "9993ffae60cb3591",
        "outputId": "4286b0df-816e-4702-f1e9-e109376f92b3"
      },
      "id": "9993ffae60cb3591"
    },
    {
      "cell_type": "markdown",
      "source": [
        "# Python 2"
      ],
      "metadata": {
        "id": "QvZeWrTGUnml"
      },
      "id": "QvZeWrTGUnml"
    },
    {
      "cell_type": "code",
      "source": [
        "import statsmodels.formula.api as smf"
      ],
      "metadata": {
        "id": "TOHgJKSIUpm2"
      },
      "id": "TOHgJKSIUpm2",
      "execution_count": 26,
      "outputs": []
    }
  ],
  "metadata": {
    "kernelspec": {
      "display_name": "Python 3",
      "language": "python",
      "name": "python3"
    },
    "language_info": {
      "codemirror_mode": {
        "name": "ipython",
        "version": 2
      },
      "file_extension": ".py",
      "mimetype": "text/x-python",
      "name": "python",
      "nbconvert_exporter": "python",
      "pygments_lexer": "ipython2",
      "version": "2.7.6"
    },
    "colab": {
      "provenance": [],
      "toc_visible": true
    }
  },
  "nbformat": 4,
  "nbformat_minor": 5
}