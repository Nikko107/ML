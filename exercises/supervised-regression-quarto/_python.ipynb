{
 "cells": [
  {
   "cell_type": "code",
   "execution_count": 1,
   "id": "initial_id",
   "metadata": {
    "collapsed": true,
    "ExecuteTime": {
     "end_time": "2023-11-06T15:41:40.618739160Z",
     "start_time": "2023-11-06T15:41:40.514155193Z"
    }
   },
   "outputs": [],
   "source": [
    "#| label: import\n",
    "\n",
    "# general\n",
    "import numpy as np\n",
    "import pandas as pd\n",
    "import math\n",
    "# plots\n",
    "import matplotlib.pyplot as plt \n",
    "import seaborn as sns\n",
    "# sklearn\n",
    "from sklearn.datasets import load_iris\n",
    "from sklearn.tree import DecisionTreeRegressor \n",
    "from sklearn.linear_model import LinearRegression\n",
    "import sklearn.metrics as metrics\n",
    "from sklearn.metrics import mean_absolute_error\n"
   ]
  },
  {
   "cell_type": "code",
   "execution_count": 3,
   "outputs": [
    {
     "name": "stdout",
     "output_type": "stream",
     "text": [
      "LinearRegression()\n",
      "Model MSE:  15.461825608784347\n"
     ]
    }
   ],
   "source": [
    "#| label: hro\n",
    "\n",
    "# You initialize your \"learner\" or model with its properties defined by the \n",
    "# parameters, e.g.,:\n",
    "model = LinearRegression(fit_intercept=True)\n",
    "# Before training them on actual data, they just contain information on the \n",
    "# functional form of f. Once a learner has been trained we can examine the \n",
    "# parameters of the resulting model.\n",
    "print(model)\n",
    "x = np.arange(0, 8, 0.01)\n",
    "np.random.seed(42)\n",
    "y = -1 + 3*x + np.random.normal(loc=0.0, scale=4, size=len(x))\n",
    "# Optimization happens rather implicitly as sklearn only acts as a wrapper for \n",
    "# existing implementations and calls package-specific optimization procedures \n",
    "# within the function `model.fit()`:\n",
    "model.fit(x.reshape(-1, 1),y) # reshape for one feature design matrix\n",
    "print(\n",
    "    'Model MSE: ', metrics.mean_squared_error(y, model.predict(x.reshape(-1, 1)))\n",
    ")"
   ],
   "metadata": {
    "collapsed": false,
    "ExecuteTime": {
     "end_time": "2023-11-06T15:54:34.964468968Z",
     "start_time": "2023-11-06T15:54:34.918473806Z"
    }
   },
   "id": "a22f4eb5d1ce5d6"
  },
  {
   "cell_type": "code",
   "execution_count": 4,
   "outputs": [
    {
     "name": "stdout",
     "output_type": "stream",
     "text": [
      "Type of object iris: <class 'sklearn.utils._bunch.Bunch'>\n",
      "Feature names: ['sepal length (cm)', 'sepal width (cm)', 'petal length (cm)', 'petal width (cm)']\n",
      "Target names: ['setosa' 'versicolor' 'virginica']\n",
      "\n",
      "Shape of X and y\n",
      " (150, 4) (150,)\n",
      "\n",
      "Type of X and y\n",
      " <class 'numpy.ndarray'> <class 'numpy.ndarray'>\n"
     ]
    }
   ],
   "source": [
    "#| label: iris\n",
    "\n",
    "iris = load_iris() \n",
    "X = iris.data\n",
    "y = iris.target\n",
    "feature_names = iris.feature_names\n",
    "target_names = iris.target_names\n",
    "print(\"Type of object iris:\", type(iris))\n",
    "print(\"Feature names:\", feature_names)\n",
    "print(\"Target names:\", target_names)\n",
    "print(\"\\nShape of X and y\\n\", X.shape, y.shape)\n",
    "print(\"\\nType of X and y\\n\", type(X), type(y))"
   ],
   "metadata": {
    "collapsed": false,
    "ExecuteTime": {
     "end_time": "2023-11-06T15:59:49.752734Z",
     "start_time": "2023-11-06T15:59:49.709545913Z"
    }
   },
   "id": "a293d7fefb2e8baf"
  },
  {
   "cell_type": "code",
   "execution_count": 7,
   "outputs": [
    {
     "name": "stdout",
     "output_type": "stream",
     "text": [
      "{'ccp_alpha': 0.0, 'criterion': 'squared_error', 'max_depth': None, 'max_features': None, 'max_leaf_nodes': None, 'min_impurity_decrease': 0.0, 'min_samples_leaf': 1, 'min_samples_split': 2, 'min_weight_fraction_leaf': 0.0, 'random_state': None, 'splitter': 'best'}\n"
     ]
    }
   ],
   "source": [
    "# | label: learner\n",
    "\n",
    "# help(DecisionTreeRegressor) \n",
    "rtree = DecisionTreeRegressor() # default setting\n",
    "print(rtree.get_params())"
   ],
   "metadata": {
    "collapsed": false,
    "ExecuteTime": {
     "end_time": "2023-11-06T16:06:31.753055060Z",
     "start_time": "2023-11-06T16:06:31.707252693Z"
    }
   },
   "id": "9993ffae60cb3591"
  }
 ],
 "metadata": {
  "kernelspec": {
   "display_name": "Python 3",
   "language": "python",
   "name": "python3"
  },
  "language_info": {
   "codemirror_mode": {
    "name": "ipython",
    "version": 2
   },
   "file_extension": ".py",
   "mimetype": "text/x-python",
   "name": "python",
   "nbconvert_exporter": "python",
   "pygments_lexer": "ipython2",
   "version": "2.7.6"
  }
 },
 "nbformat": 4,
 "nbformat_minor": 5
}
