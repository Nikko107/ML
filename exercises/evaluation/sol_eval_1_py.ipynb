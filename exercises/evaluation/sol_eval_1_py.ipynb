{
 "cells": [
  {
   "cell_type": "code",
   "execution_count": 12,
   "id": "3ca41b68",
   "metadata": {},
   "outputs": [],
   "source": [
    "# general\n",
    "import numpy as np\n",
    "import pandas as pd\n",
    "import math\n",
    "# plots\n",
    "import matplotlib.pyplot as plt\n",
    "# sklearn\n",
    "from sklearn.linear_model import LinearRegression\n",
    "from sklearn.preprocessing import PolynomialFeatures\n",
    "from sklearn.metrics import mean_squared_error\n",
    "from sklearn.model_selection import train_test_split"
   ]
  },
  {
   "cell_type": "markdown",
   "id": "ba043b79",
   "metadata": {},
   "source": [
    "## Solution 1: Evaluating regression learners"
   ]
  },
  {
   "cell_type": "markdown",
   "id": "5a5f5834",
   "metadata": {},
   "source": [
    "### a)"
   ]
  },
  {
   "cell_type": "markdown",
   "id": "1e9be2a5",
   "metadata": {},
   "source": [
    "Since the polynomial learner clearly achieves a better fit for the training data and some observations lie rather far from the regression line, which is strongly penalized by $L2$ loss, it will have lower empirical risk than the linear learner."
   ]
  },
  {
   "cell_type": "markdown",
   "id": "39d6a73b",
   "metadata": {},
   "source": [
    "### b)"
   ]
  },
  {
   "cell_type": "markdown",
   "id": "8f6718b2",
   "metadata": {},
   "source": [
    "First and foremost, evaluation on the training data is almost never a good idea. Under certain conditions the training error does tell us something about generalization ability, but for flexible learners and/or small training data it is deceptive due to optimistic bias. In this particular situation, we have few training observations and quite some points that look a little extreme. A low training error might be achieved by a learner that fits every quirk in the training data but generalizes poorly to unseen points with only slightly different distribution. Evaluation on separate test data is therefore non-negotiable."
   ]
  },
  {
   "cell_type": "markdown",
   "id": "2f0fd62c",
   "metadata": {},
   "source": [
    "### c) "
   ]
  },
  {
   "cell_type": "markdown",
   "id": "d6c38b61",
   "metadata": {},
   "source": [
    " We fit the polynomial and linear learner and then compute the squared and absolute differences between their\n",
    "respective predictions and the true target values:"
   ]
  },
  {
   "cell_type": "code",
   "execution_count": 101,
   "id": "0b5bb0ea-0cd6-43ed-b2d2-98c0176a27bc",
   "metadata": {},
   "outputs": [
    {
     "name": "stdout",
     "output_type": "stream",
     "text": [
      "          y          x\n",
      "0  7.128700  10.000000\n",
      "1  6.549227  10.102041\n",
      "2  6.824611  10.204082\n",
      "3  6.763703  10.306122\n",
      "4  7.484359  10.408163\n"
     ]
    }
   ],
   "source": [
    "#| label: legal-data\n",
    "\n",
    "np.random.seed(43)\n",
    "x_train = np.linspace(10, 15, num=50)\n",
    "y_train = 10 + 3 * np.sin(0.15 * math.pi * x_train)\n",
    "y_train += np.random.normal(loc=0.0, scale=0.5, size=len(x_train))\n",
    "data_train = pd.DataFrame({\"y\": y_train, \"x\": x_train})\n",
    "np.random.seed(2238)\n",
    "x_test = np.linspace(10, 15, num=50)\n",
    "y_test = 10 + 3 * np.sin(0.15 * math.pi * x_test) \n",
    "y_test += np.random.normal(loc=0.0, scale=0.5, size=len(x_test))\n",
    "data_test = pd.DataFrame({\"y\": y_test, \"x\": x_test})\n",
    "print(data_train.head())"
   ]
  },
  {
   "cell_type": "code",
   "execution_count": 22,
   "id": "b4b5c7c9",
   "metadata": {},
   "outputs": [
    {
     "name": "stdout",
     "output_type": "stream",
     "text": [
      "MAE for Polynomial and Linear fit:\n",
      "0    0.436762\n",
      "1    0.421898\n",
      "dtype: float64\n",
      "MSE for Polynomial and Linear fit:\n",
      "0    0.266721\n",
      "1    0.276253\n",
      "dtype: float64\n"
     ]
    }
   ],
   "source": [
    "#| label: legal-learn\n",
    "\n",
    "# train polynomial regression\n",
    "poly = PolynomialFeatures(degree=21)\n",
    "poly_model = LinearRegression()\n",
    "poly_model.fit(poly.fit_transform(x_train.reshape(-1, 1)), y_train)\n",
    "\n",
    "# train linear regression\n",
    "lm_model = LinearRegression()\n",
    "lm_model.fit(x_train.reshape(-1, 1), y_train) # reshaping necessary because single feature\n",
    "\n",
    "# make predictions\n",
    "y_poly = poly_model.predict(poly.fit_transform(x_test.reshape(-1, 1)))\n",
    "y_lm = lm_model.predict(x_test.reshape(-1, 1))\n",
    "\n",
    "# compute errors\n",
    "abs_differences = pd.DataFrame(np.column_stack([y_poly, y_lm])).apply(lambda y: abs(data_test.loc[:, 'y'] - y)) # apply is componentwise\n",
    "errors_mse = abs_differences.apply(lambda x: x**2).mean() # ** is power symbol\n",
    "errors_mae = abs_differences.mean()\n",
    "\n",
    "print(\"MAE for Polynomial and Linear fit:\", errors_mae, sep='\\n')\n",
    "print(\"MSE for Polynomial and Linear fit:\", errors_mse, sep='\\n')"
   ]
  },
  {
   "cell_type": "markdown",
   "id": "8cdd4550",
   "metadata": {},
   "source": [
    "The picture is inconclusive: based on MSE, we should prefer the complex polynomial model, while MAE tells us\n",
    "to pick the linear one. It is important to understand that the choices of inner and outer loss functions encode our\n",
    "requirements and may have substantial impact on the result. Our learners differ strongly in their complexity:\n",
    "we have an extremely flexible polynomial and a very robust (though perhaps underfitting) linear one. If, for\n",
    "example, our test data contains an extreme point far from the remaining observations, the polynomial model\n",
    "might be able to fit it fairly well, while the LM incurs a large MSE because the distance to this point enters\n",
    "quadratically. The MAE, on the other hand, is more concerned with small residuals, and there, our LM fares\n",
    "better. Here, following the MAE assessment would signify preference for a robust model."
   ]
  },
  {
   "cell_type": "markdown",
   "id": "f6596629",
   "metadata": {},
   "source": [
    "However, we must keep in mind that our performance evaluation is based on a single holdout split, which is\n",
    "not advisable in general and particularly deceptive with so little data. For different test data we quickly get\n",
    "in situations where the polynomial has both worse MSE and MAE – after all, slapping a learner with 21 + 1\n",
    "learnable parameters on a 50-points data set should strike you as a rather bad idea."
   ]
  },
  {
   "cell_type": "markdown",
   "id": "437c8a3b",
   "metadata": {},
   "source": [
    "Take-home message: the choice of our performance metric matters, and making decisions based on a single\n",
    "train-test split is risky in many data settings."
   ]
  },
  {
   "cell_type": "markdown",
   "id": "7f83b674",
   "metadata": {},
   "source": [
    "## Solution 2: Importance of train-test split"
   ]
  },
  {
   "cell_type": "markdown",
   "id": "c489ac56",
   "metadata": {},
   "source": [
    "### a)"
   ]
  },
  {
   "cell_type": "markdown",
   "id": "06d3445b",
   "metadata": {},
   "source": [
    "Get the data, define a task and corresponding train-test split, and predict with trained model:"
   ]
  },
  {
   "cell_type": "code",
   "execution_count": 89,
   "id": "2f9f3d1b-6387-4b9d-879f-5cb5bd3dfd8a",
   "metadata": {},
   "outputs": [
    {
     "data": {
      "text/html": [
       "<div>\n",
       "<style scoped>\n",
       "    .dataframe tbody tr th:only-of-type {\n",
       "        vertical-align: middle;\n",
       "    }\n",
       "\n",
       "    .dataframe tbody tr th {\n",
       "        vertical-align: top;\n",
       "    }\n",
       "\n",
       "    .dataframe thead th {\n",
       "        text-align: right;\n",
       "    }\n",
       "</style>\n",
       "<table border=\"1\" class=\"dataframe\">\n",
       "  <thead>\n",
       "    <tr style=\"text-align: right;\">\n",
       "      <th></th>\n",
       "      <th>MedInc</th>\n",
       "      <th>MedHouseVal</th>\n",
       "    </tr>\n",
       "  </thead>\n",
       "  <tbody>\n",
       "    <tr>\n",
       "      <th>0</th>\n",
       "      <td>8.3252</td>\n",
       "      <td>4.526</td>\n",
       "    </tr>\n",
       "    <tr>\n",
       "      <th>1</th>\n",
       "      <td>8.3014</td>\n",
       "      <td>3.585</td>\n",
       "    </tr>\n",
       "    <tr>\n",
       "      <th>2</th>\n",
       "      <td>7.2574</td>\n",
       "      <td>3.521</td>\n",
       "    </tr>\n",
       "    <tr>\n",
       "      <th>3</th>\n",
       "      <td>5.6431</td>\n",
       "      <td>3.413</td>\n",
       "    </tr>\n",
       "    <tr>\n",
       "      <th>4</th>\n",
       "      <td>3.8462</td>\n",
       "      <td>3.422</td>\n",
       "    </tr>\n",
       "  </tbody>\n",
       "</table>\n",
       "</div>"
      ],
      "text/plain": [
       "   MedInc  MedHouseVal\n",
       "0  8.3252        4.526\n",
       "1  8.3014        3.585\n",
       "2  7.2574        3.521\n",
       "3  5.6431        3.413\n",
       "4  3.8462        3.422"
      ]
     },
     "execution_count": 89,
     "metadata": {},
     "output_type": "execute_result"
    }
   ],
   "source": [
    "#| label: cali-data\n",
    "\n",
    "from sklearn.datasets import fetch_california_housing\n",
    "dataset_california = fetch_california_housing(as_frame=True)\n",
    "df_california = dataset_california.frame.loc[:, ['MedInc', 'MedHouseVal']]\n",
    "df_california.head()"
   ]
  },
  {
   "cell_type": "code",
   "execution_count": 97,
   "id": "21d529ff-d367-4016-9a62-a11186c91ca6",
   "metadata": {},
   "outputs": [],
   "source": [
    "#| label: cali-split\n",
    "\n",
    "df_california_sorted = df_california.sort_values('MedInc')\n",
    "df_california_sorted.reset_index(drop=True, inplace=True)\n",
    "x_train = df_california_sorted.loc[:99, ['MedInc']]\n",
    "y_train = df_california_sorted.loc[:99, ['MedHouseVal']]\n",
    "x_test = df_california_sorted.loc[100:, ['MedInc']]\n",
    "y_test = df_california_sorted.loc[100:, ['MedHouseVal']]"
   ]
  },
  {
   "cell_type": "code",
   "execution_count": 98,
   "id": "65c8ff7b-19e1-4709-889b-39de75c66e19",
   "metadata": {},
   "outputs": [
    {
     "name": "stdout",
     "output_type": "stream",
     "text": [
      "MSE of test data: 4.1522\n"
     ]
    }
   ],
   "source": [
    "#| label: cali-lm\n",
    "\n",
    "# train linear learner\n",
    "lm_california = LinearRegression()\n",
    "lm_california.fit(X = x_train, y = y_train)\n",
    "\n",
    "pred = lm_california.predict(x_test)\n",
    "mse = mean_squared_error(y_test, pred)\n",
    "print(f\"MSE of test data: {mse:.4f}\")"
   ]
  },
  {
   "cell_type": "markdown",
   "id": "d67aaff5",
   "metadata": {},
   "source": [
    "### b) "
   ]
  },
  {
   "cell_type": "markdown",
   "id": "4b85692d",
   "metadata": {},
   "source": [
    "We have chosen the first few observations from a data set that is ordered by feature value, which is not a good idea because this is not a random sample and covers only a particular area of the feature space. Consequently, we obtain a pretty high test MSE (relatively speaking -- we will see in the next exercise which error values we can usually expect for this task). Looking at the data, this gives us a steeply declining regression line that does not reflect the overall data situation. Also, the training set is pretty small and will likely lead to poor generalization."
   ]
  },
  {
   "cell_type": "markdown",
   "id": "4a3a122d",
   "metadata": {},
   "source": [
    "### c)"
   ]
  },
  {
   "cell_type": "markdown",
   "id": "3eb905b9",
   "metadata": {},
   "source": [
    "We repeat the above procedure for different train-test splits like so:\n"
   ]
  },
  {
   "cell_type": "code",
   "execution_count": 99,
   "id": "39c058e2-63af-4548-85f6-e4ea7efb20be",
   "metadata": {},
   "outputs": [],
   "source": [
    "#| label: cali-resample\n",
    "\n",
    "x, y = df_california.loc[:, ['MedInc']], df_california.loc[:, ['MedHouseVal']]\n",
    "split_ratio = np.linspace(0.1, 0.9, num=9)\n",
    "\n",
    "result = pd.DataFrame()\n",
    "for i in range(10):\n",
    "    err = []\n",
    "    for split in split_ratio:\n",
    "        x_train, x_test, y_train, y_test = train_test_split(\n",
    "            x, y, train_size = split, random_state=i + 10\n",
    "        )\n",
    "        lm_california.fit(X=x_train, y=y_train)\n",
    "        pred = lm_california.predict(x_test)\n",
    "        err.append(mean_squared_error(y_test, pred))\n",
    "    result[i] = err\n",
    "    \n",
    "errors = result.transpose()\n",
    "errors.columns = [f'0.{i}' for i in range(1, 10)]"
   ]
  },
  {
   "cell_type": "code",
   "execution_count": 100,
   "id": "5ab4d589-716e-4242-9004-b2889fcdf089",
   "metadata": {},
   "outputs": [
    {
     "data": {
      "image/png": "[encoded data removed]",
      "text/plain": [
       "<Figure size 800x550 with 1 Axes>"
      ]
     },
     "metadata": {},
     "output_type": "display_data"
    }
   ],
   "source": [
    "#| label: cali-boxplot\n",
    "\n",
    "# plot your errors\n",
    "# instantiate plot\n",
    "fig = plt.figure(figsize=(8, 5.5))\n",
    "# Creating axes instance\n",
    "ax = fig.add_axes([0, 0, 1, 1])\n",
    "# Creating plot\n",
    "bp = ax.boxplot(errors)\n",
    "# x-axis labels\n",
    "ax.set_xticklabels([f'0.{i}' for i in range(1, 10)])\n",
    "# Adding title\n",
    "plt.title(\"MSE of Linear Model for different test set sizes\", size=20)\n",
    "plt.xlabel('train split size', size=16)\n",
    "plt.ylabel('MSE', size=16)\n",
    "# show plot\n",
    "plt.show()"
   ]
  }
 ],
 "metadata": {
  "kernelspec": {
   "display_name": "Python 3 (ipykernel)",
   "language": "python",
   "name": "python3"
  },
  "language_info": {
   "codemirror_mode": {
    "name": "ipython",
    "version": 3
   },
   "file_extension": ".py",
   "mimetype": "text/x-python",
   "name": "python",
   "nbconvert_exporter": "python",
   "pygments_lexer": "ipython3",
   "version": "3.10.12"
  }
 },
 "nbformat": 4,
 "nbformat_minor": 5
}
