{
 "cells": [
  {
   "cell_type": "markdown",
   "id": "266a123d",
   "metadata": {},
   "source": [
    "## Init: Import packages"
   ]
  },
  {
   "cell_type": "code",
   "execution_count": 6,
   "id": "3ca41b68",
   "metadata": {
    "vscode": {
     "languageId": "r"
    }
   },
   "outputs": [],
   "source": [
    "#| label: import\n",
    "\n",
    "library(ggplot2)"
   ]
  },
  {
   "cell_type": "markdown",
   "id": "ba043b79",
   "metadata": {},
   "source": [
    "## Solution 1: Evaluating regression learners"
   ]
  },
  {
   "cell_type": "markdown",
   "id": "5a5f5834",
   "metadata": {},
   "source": [
    "### a)"
   ]
  },
  {
   "cell_type": "markdown",
   "id": "1e9be2a5",
   "metadata": {},
   "source": [
    "Since the polynomial learner clearly achieves a better fit for the training data and some observations lie rather far from the regression line, which is strongly penalized by $L2$ loss, it will have lower empirical risk than the linear learner."
   ]
  },
  {
   "cell_type": "markdown",
   "id": "39d6a73b",
   "metadata": {},
   "source": [
    "### b)"
   ]
  },
  {
   "cell_type": "markdown",
   "id": "8f6718b2",
   "metadata": {},
   "source": [
    "First and foremost, evaluation on the training data is almost never a good idea. Under certain conditions the training error does tell us something about generalization ability, but for flexible learners and/or small training data it is deceptive due to optimistic bias. In this particular situation, we have few training observations and quite some points that look a little extreme. A low training error might be achieved by a learner that fits every quirk in the training data but generalizes poorly to unseen points with only slightly different distribution. Evaluation on separate test data is therefore non-negotiable."
   ]
  },
  {
   "cell_type": "markdown",
   "id": "2f0fd62c",
   "metadata": {},
   "source": [
    "### c) "
   ]
  },
  {
   "cell_type": "markdown",
   "id": "d6c38b61",
   "metadata": {},
   "source": [
    " We fit the polynomial and linear learner and then compute the squared and absolute differences between their\n",
    "respective predictions and the true target values:"
   ]
  },
  {
   "cell_type": "code",
   "execution_count": 7,
   "id": "36da4b69",
   "metadata": {
    "vscode": {
     "languageId": "r"
    }
   },
   "outputs": [
    {
     "name": "stdout",
     "output_type": "stream",
     "text": [
      "[1] 0.2731046 0.3031514 0.4140316 0.3827525\n"
     ]
    }
   ],
   "source": [
    "#| label: fit\n",
    "\n",
    "# define train data including outlier\n",
    "set.seed(123)\n",
    "x_train <- seq(10, 15, length.out = 50)\n",
    "y_train <- 10 + 3 * sin(0.15 * pi * x_train) + rnorm(length(x_train), sd = 0.5)\n",
    "data_train <- data.frame(x = x_train, y = y_train)\n",
    "\n",
    "# define test data\n",
    "set.seed(321)\n",
    "x_test <- seq(10, 15, length.out = 10)\n",
    "y_test <- 10 + 3 * sin(0.15 * pi * x_test) + rnorm(length(x_test), sd = 0.5)\n",
    "data_test <- data.frame(x = x_test, y = y_test)\n",
    "\n",
    "# train learners\n",
    "polynomial_learner <- lm(y ~ poly(x, 21), data_train)\n",
    "linear_learner <- lm(y ~ x, data_train)\n",
    "\n",
    "# predict with both learners\n",
    "y_polynomial <- predict(polynomial_learner, data_test)\n",
    "y_lm <- predict(linear_learner, data_test)\n",
    "\n",
    "# compute errors\n",
    "abs_differences <- lapply(\n",
    "  list(y_polynomial, y_lm), \n",
    "  function(i) abs(data_test$y - i))\n",
    "errors_mse <- sapply(abs_differences, function(i) mean(i^2))\n",
    "errors_mae <- sapply(abs_differences, mean)\n",
    "\n",
    "print(c(errors_mse, errors_mae))"
   ]
  },
  {
   "cell_type": "markdown",
   "id": "8cdd4550",
   "metadata": {},
   "source": [
    "The picture is inconclusive: based on MSE, we should prefer the complex polynomial model, while MAE tells us\n",
    "to pick the linear one. It is important to understand that the choices of inner and outer loss functions encode our\n",
    "requirements and may have substantial impact on the result. Our learners differ strongly in their complexity:\n",
    "we have an extremely flexible polynomial and a very robust (though perhaps underfitting) linear one. If, for\n",
    "example, our test data contains an extreme point far from the remaining observations, the polynomial model\n",
    "might be able to fit it fairly well, while the LM incurs a large MSE because the distance to this point enters\n",
    "quadratically. The MAE, on the other hand, is more concerned with small residuals, and there, our LM fares\n",
    "better. Here, following the MAE assessment would signify preference for a robust model."
   ]
  },
  {
   "cell_type": "markdown",
   "id": "f6596629",
   "metadata": {},
   "source": [
    "However, we must keep in mind that our performance evaluation is based on a single holdout split, which is\n",
    "not advisable in general and particularly deceptive with so little data. For different test data we quickly get\n",
    "in situations where the polynomial has both worse MSE and MAE – after all, slapping a learner with 21 + 1\n",
    "learnable parameters on a 50-points data set should strike you as a rather bad idea."
   ]
  },
  {
   "cell_type": "markdown",
   "id": "437c8a3b",
   "metadata": {},
   "source": [
    "Take-home message: the choice of our performance metric matters, and making decisions based on a single\n",
    "train-test split is risky in many data settings."
   ]
  },
  {
   "cell_type": "markdown",
   "id": "7f83b674",
   "metadata": {},
   "source": [
    "## Solution 2: Importance of train-test split"
   ]
  },
  {
   "cell_type": "markdown",
   "id": "c489ac56",
   "metadata": {},
   "source": [
    "### a)"
   ]
  },
  {
   "cell_type": "markdown",
   "id": "06d3445b",
   "metadata": {},
   "source": [
    "Get the data, define a task and corresponding train-test split, and predict with trained model:"
   ]
  },
  {
   "cell_type": "code",
   "execution_count": 8,
   "id": "cd7642d7",
   "metadata": {
    "vscode": {
     "languageId": "r"
    }
   },
   "outputs": [
    {
     "data": {
      "text/html": [
       "<table class=\"dataframe\">\n",
       "<caption>A data.frame: 6 x 2</caption>\n",
       "<thead>\n",
       "\t<tr><th></th><th scope=col>dis</th><th scope=col>nox</th></tr>\n",
       "\t<tr><th></th><th scope=col>&lt;dbl&gt;</th><th scope=col>&lt;dbl&gt;</th></tr>\n",
       "</thead>\n",
       "<tbody>\n",
       "\t<tr><th scope=row>373</th><td>1.1296</td><td>0.668</td></tr>\n",
       "\t<tr><th scope=row>375</th><td>1.1370</td><td>0.668</td></tr>\n",
       "\t<tr><th scope=row>372</th><td>1.1691</td><td>0.631</td></tr>\n",
       "\t<tr><th scope=row>374</th><td>1.1742</td><td>0.668</td></tr>\n",
       "\t<tr><th scope=row>407</th><td>1.1781</td><td>0.659</td></tr>\n",
       "\t<tr><th scope=row>371</th><td>1.2024</td><td>0.631</td></tr>\n",
       "</tbody>\n",
       "</table>\n"
      ],
      "text/latex": [
       "A data.frame: 6 x 2\n",
       "\\begin{tabular}{r|ll}\n",
       "  & dis & nox\\\\\n",
       "  & <dbl> & <dbl>\\\\\n",
       "\\hline\n",
       "\t373 & 1.1296 & 0.668\\\\\n",
       "\t375 & 1.1370 & 0.668\\\\\n",
       "\t372 & 1.1691 & 0.631\\\\\n",
       "\t374 & 1.1742 & 0.668\\\\\n",
       "\t407 & 1.1781 & 0.659\\\\\n",
       "\t371 & 1.2024 & 0.631\\\\\n",
       "\\end{tabular}\n"
      ],
      "text/markdown": [
       "\n",
       "A data.frame: 6 x 2\n",
       "\n",
       "| <!--/--> | dis &lt;dbl&gt; | nox &lt;dbl&gt; |\n",
       "|---|---|---|\n",
       "| 373 | 1.1296 | 0.668 |\n",
       "| 375 | 1.1370 | 0.668 |\n",
       "| 372 | 1.1691 | 0.631 |\n",
       "| 374 | 1.1742 | 0.668 |\n",
       "| 407 | 1.1781 | 0.659 |\n",
       "| 371 | 1.2024 | 0.631 |\n",
       "\n"
      ],
      "text/plain": [
       "    dis    nox  \n",
       "373 1.1296 0.668\n",
       "375 1.1370 0.668\n",
       "372 1.1691 0.631\n",
       "374 1.1742 0.668\n",
       "407 1.1781 0.659\n",
       "371 1.2024 0.631"
      ]
     },
     "metadata": {},
     "output_type": "display_data"
    },
    {
     "data": {
      "text/html": [
       "<strong>regr.mse:</strong> 1.52451196592771"
      ],
      "text/latex": [
       "\\textbf{regr.mse:} 1.52451196592771"
      ],
      "text/markdown": [
       "**regr.mse:** 1.52451196592771"
      ],
      "text/plain": [
       "regr.mse \n",
       "1.524512 "
      ]
     },
     "metadata": {},
     "output_type": "display_data"
    }
   ],
   "source": [
    "#| label: lin-model\n",
    "\n",
    "# get data\n",
    "library(mlbench)\n",
    "data(BostonHousing)\n",
    "data_pollution <- data.frame(dis = BostonHousing$dis, nox = BostonHousing$nox)\n",
    "data_pollution <- data_pollution[order(data_pollution$dis), ]\n",
    "head(data_pollution)\n",
    "\n",
    "# define task and train-test split\n",
    "library(mlr3)\n",
    "task <- mlr3::TaskRegr$new(\"pollution\", backend = data_pollution, target = \"nox\")\n",
    "train_set = 1:10\n",
    "test_set = setdiff(seq_len(task$nrow), train_set)\n",
    "\n",
    "# train linear learner\n",
    "library(mlr3learners)\n",
    "learner <- mlr3::lrn(\"regr.lm\")\n",
    "learner$train(task, row_ids = train_set)\n",
    "\n",
    "# predict on test data\n",
    "predictions <- learner$predict(task, row_ids = test_set)\n",
    "predictions$score(mlr3::msr(\"regr.mse\"))\n"
   ]
  },
  {
   "cell_type": "markdown",
   "id": "d67aaff5",
   "metadata": {},
   "source": [
    "### b) "
   ]
  },
  {
   "cell_type": "markdown",
   "id": "4b85692d",
   "metadata": {},
   "source": [
    "We have chosen the first ten observations from a data set that is ordered by feature value, which is not a good idea because this is not a random sample and covers only a particular area of the feature space. Consequently, we obtain a pretty high test MSE (relatively speaking -- we will see in the next exercise which error values we can usually expect for this task). Looking at the data, this gives us a steeply declining regression line that does not reflect the overall data situation. Also, a training set of ten points is pretty small and will likely lead to poor generalization."
   ]
  },
  {
   "cell_type": "markdown",
   "id": "4a3a122d",
   "metadata": {},
   "source": [
    "### c)"
   ]
  },
  {
   "cell_type": "markdown",
   "id": "3eb905b9",
   "metadata": {},
   "source": [
    "We repeat the above procedure for different train-test splits like so:\n"
   ]
  },
  {
   "cell_type": "code",
   "execution_count": 9,
   "id": "9cd8fdd8",
   "metadata": {
    "outputs_hidden": "true",
    "vscode": {
     "languageId": "r"
    }
   },
   "outputs": [
    {
     "name": "stdout",
     "output_type": "stream",
     "text": [
      "INFO  [16:48:33.064] [mlr3] Applying learner 'regr.lm' on task 'pollution' (iter 1/1)\n",
      "INFO  [16:48:33.116] [mlr3] Applying learner 'regr.lm' on task 'pollution' (iter 1/1)\n",
      "INFO  [16:48:33.182] [mlr3] Applying learner 'regr.lm' on task 'pollution' (iter 1/1)\n",
      "INFO  [16:48:33.241] [mlr3] Applying learner 'regr.lm' on task 'pollution' (iter 1/1)\n",
      "INFO  [16:48:33.301] [mlr3] Applying learner 'regr.lm' on task 'pollution' (iter 1/1)\n",
      "INFO  [16:48:33.356] [mlr3] Applying learner 'regr.lm' on task 'pollution' (iter 1/1)\n",
      "INFO  [16:48:33.394] [mlr3] Applying learner 'regr.lm' on task 'pollution' (iter 1/1)\n",
      "INFO  [16:48:33.430] [mlr3] Applying learner 'regr.lm' on task 'pollution' (iter 1/1)\n",
      "INFO  [16:48:33.469] [mlr3] Applying learner 'regr.lm' on task 'pollution' (iter 1/1)\n",
      "INFO  [16:48:33.500] [mlr3] Applying learner 'regr.lm' on task 'pollution' (iter 1/1)\n",
      "INFO  [16:48:33.532] [mlr3] Applying learner 'regr.lm' on task 'pollution' (iter 1/1)\n",
      "INFO  [16:48:33.571] [mlr3] Applying learner 'regr.lm' on task 'pollution' (iter 1/1)\n",
      "INFO  [16:48:33.601] [mlr3] Applying learner 'regr.lm' on task 'pollution' (iter 1/1)\n",
      "INFO  [16:48:33.632] [mlr3] Applying learner 'regr.lm' on task 'pollution' (iter 1/1)\n",
      "INFO  [16:48:33.672] [mlr3] Applying learner 'regr.lm' on task 'pollution' (iter 1/1)\n",
      "INFO  [16:48:33.703] [mlr3] Applying learner 'regr.lm' on task 'pollution' (iter 1/1)\n",
      "INFO  [16:48:33.733] [mlr3] Applying learner 'regr.lm' on task 'pollution' (iter 1/1)\n",
      "INFO  [16:48:33.768] [mlr3] Applying learner 'regr.lm' on task 'pollution' (iter 1/1)\n",
      "INFO  [16:48:33.797] [mlr3] Applying learner 'regr.lm' on task 'pollution' (iter 1/1)\n",
      "INFO  [16:48:33.826] [mlr3] Applying learner 'regr.lm' on task 'pollution' (iter 1/1)\n",
      "INFO  [16:48:33.860] [mlr3] Applying learner 'regr.lm' on task 'pollution' (iter 1/1)\n",
      "INFO  [16:48:33.890] [mlr3] Applying learner 'regr.lm' on task 'pollution' (iter 1/1)\n",
      "INFO  [16:48:33.920] [mlr3] Applying learner 'regr.lm' on task 'pollution' (iter 1/1)\n",
      "INFO  [16:48:33.973] [mlr3] Applying learner 'regr.lm' on task 'pollution' (iter 1/1)\n",
      "INFO  [16:48:34.001] [mlr3] Applying learner 'regr.lm' on task 'pollution' (iter 1/1)\n",
      "INFO  [16:48:34.030] [mlr3] Applying learner 'regr.lm' on task 'pollution' (iter 1/1)\n",
      "INFO  [16:48:34.065] [mlr3] Applying learner 'regr.lm' on task 'pollution' (iter 1/1)\n",
      "INFO  [16:48:34.094] [mlr3] Applying learner 'regr.lm' on task 'pollution' (iter 1/1)\n",
      "INFO  [16:48:34.123] [mlr3] Applying learner 'regr.lm' on task 'pollution' (iter 1/1)\n",
      "INFO  [16:48:34.158] [mlr3] Applying learner 'regr.lm' on task 'pollution' (iter 1/1)\n",
      "INFO  [16:48:34.188] [mlr3] Applying learner 'regr.lm' on task 'pollution' (iter 1/1)\n",
      "INFO  [16:48:34.216] [mlr3] Applying learner 'regr.lm' on task 'pollution' (iter 1/1)\n",
      "INFO  [16:48:34.249] [mlr3] Applying learner 'regr.lm' on task 'pollution' (iter 1/1)\n",
      "INFO  [16:48:34.278] [mlr3] Applying learner 'regr.lm' on task 'pollution' (iter 1/1)\n",
      "INFO  [16:48:34.307] [mlr3] Applying learner 'regr.lm' on task 'pollution' (iter 1/1)\n",
      "INFO  [16:48:34.341] [mlr3] Applying learner 'regr.lm' on task 'pollution' (iter 1/1)\n",
      "INFO  [16:48:34.370] [mlr3] Applying learner 'regr.lm' on task 'pollution' (iter 1/1)\n",
      "INFO  [16:48:34.399] [mlr3] Applying learner 'regr.lm' on task 'pollution' (iter 1/1)\n",
      "INFO  [16:48:34.434] [mlr3] Applying learner 'regr.lm' on task 'pollution' (iter 1/1)\n",
      "INFO  [16:48:34.463] [mlr3] Applying learner 'regr.lm' on task 'pollution' (iter 1/1)\n",
      "INFO  [16:48:34.493] [mlr3] Applying learner 'regr.lm' on task 'pollution' (iter 1/1)\n",
      "INFO  [16:48:34.527] [mlr3] Applying learner 'regr.lm' on task 'pollution' (iter 1/1)\n",
      "INFO  [16:48:34.555] [mlr3] Applying learner 'regr.lm' on task 'pollution' (iter 1/1)\n",
      "INFO  [16:48:34.589] [mlr3] Applying learner 'regr.lm' on task 'pollution' (iter 1/1)\n",
      "INFO  [16:48:34.619] [mlr3] Applying learner 'regr.lm' on task 'pollution' (iter 1/1)\n",
      "INFO  [16:48:34.647] [mlr3] Applying learner 'regr.lm' on task 'pollution' (iter 1/1)\n",
      "INFO  [16:48:34.681] [mlr3] Applying learner 'regr.lm' on task 'pollution' (iter 1/1)\n",
      "INFO  [16:48:34.710] [mlr3] Applying learner 'regr.lm' on task 'pollution' (iter 1/1)\n",
      "INFO  [16:48:34.738] [mlr3] Applying learner 'regr.lm' on task 'pollution' (iter 1/1)\n",
      "INFO  [16:48:34.774] [mlr3] Applying learner 'regr.lm' on task 'pollution' (iter 1/1)\n",
      "INFO  [16:48:34.804] [mlr3] Applying learner 'regr.lm' on task 'pollution' (iter 1/1)\n",
      "INFO  [16:48:34.833] [mlr3] Applying learner 'regr.lm' on task 'pollution' (iter 1/1)\n",
      "INFO  [16:48:34.867] [mlr3] Applying learner 'regr.lm' on task 'pollution' (iter 1/1)\n",
      "INFO  [16:48:34.896] [mlr3] Applying learner 'regr.lm' on task 'pollution' (iter 1/1)\n",
      "INFO  [16:48:34.926] [mlr3] Applying learner 'regr.lm' on task 'pollution' (iter 1/1)\n",
      "INFO  [16:48:34.959] [mlr3] Applying learner 'regr.lm' on task 'pollution' (iter 1/1)\n",
      "INFO  [16:48:34.989] [mlr3] Applying learner 'regr.lm' on task 'pollution' (iter 1/1)\n",
      "INFO  [16:48:35.022] [mlr3] Applying learner 'regr.lm' on task 'pollution' (iter 1/1)\n",
      "INFO  [16:48:35.052] [mlr3] Applying learner 'regr.lm' on task 'pollution' (iter 1/1)\n",
      "INFO  [16:48:35.082] [mlr3] Applying learner 'regr.lm' on task 'pollution' (iter 1/1)\n",
      "INFO  [16:48:35.117] [mlr3] Applying learner 'regr.lm' on task 'pollution' (iter 1/1)\n",
      "INFO  [16:48:35.145] [mlr3] Applying learner 'regr.lm' on task 'pollution' (iter 1/1)\n",
      "INFO  [16:48:35.173] [mlr3] Applying learner 'regr.lm' on task 'pollution' (iter 1/1)\n",
      "INFO  [16:48:35.208] [mlr3] Applying learner 'regr.lm' on task 'pollution' (iter 1/1)\n",
      "INFO  [16:48:35.238] [mlr3] Applying learner 'regr.lm' on task 'pollution' (iter 1/1)\n",
      "INFO  [16:48:35.273] [mlr3] Applying learner 'regr.lm' on task 'pollution' (iter 1/1)\n",
      "INFO  [16:48:35.303] [mlr3] Applying learner 'regr.lm' on task 'pollution' (iter 1/1)\n",
      "INFO  [16:48:35.333] [mlr3] Applying learner 'regr.lm' on task 'pollution' (iter 1/1)\n",
      "INFO  [16:48:35.371] [mlr3] Applying learner 'regr.lm' on task 'pollution' (iter 1/1)\n",
      "INFO  [16:48:35.402] [mlr3] Applying learner 'regr.lm' on task 'pollution' (iter 1/1)\n",
      "INFO  [16:48:35.439] [mlr3] Applying learner 'regr.lm' on task 'pollution' (iter 1/1)\n",
      "INFO  [16:48:35.469] [mlr3] Applying learner 'regr.lm' on task 'pollution' (iter 1/1)\n",
      "INFO  [16:48:35.498] [mlr3] Applying learner 'regr.lm' on task 'pollution' (iter 1/1)\n",
      "INFO  [16:48:35.534] [mlr3] Applying learner 'regr.lm' on task 'pollution' (iter 1/1)\n",
      "INFO  [16:48:35.563] [mlr3] Applying learner 'regr.lm' on task 'pollution' (iter 1/1)\n",
      "INFO  [16:48:35.598] [mlr3] Applying learner 'regr.lm' on task 'pollution' (iter 1/1)\n",
      "INFO  [16:48:35.628] [mlr3] Applying learner 'regr.lm' on task 'pollution' (iter 1/1)\n",
      "INFO  [16:48:35.657] [mlr3] Applying learner 'regr.lm' on task 'pollution' (iter 1/1)\n",
      "INFO  [16:48:35.807] [mlr3] Applying learner 'regr.lm' on task 'pollution' (iter 1/1)\n",
      "INFO  [16:48:35.834] [mlr3] Applying learner 'regr.lm' on task 'pollution' (iter 1/1)\n",
      "INFO  [16:48:35.863] [mlr3] Applying learner 'regr.lm' on task 'pollution' (iter 1/1)\n",
      "INFO  [16:48:35.897] [mlr3] Applying learner 'regr.lm' on task 'pollution' (iter 1/1)\n",
      "INFO  [16:48:35.926] [mlr3] Applying learner 'regr.lm' on task 'pollution' (iter 1/1)\n",
      "INFO  [16:48:35.954] [mlr3] Applying learner 'regr.lm' on task 'pollution' (iter 1/1)\n",
      "INFO  [16:48:35.981] [mlr3] Applying learner 'regr.lm' on task 'pollution' (iter 1/1)\n",
      "INFO  [16:48:36.016] [mlr3] Applying learner 'regr.lm' on task 'pollution' (iter 1/1)\n",
      "INFO  [16:48:36.043] [mlr3] Applying learner 'regr.lm' on task 'pollution' (iter 1/1)\n",
      "INFO  [16:48:36.073] [mlr3] Applying learner 'regr.lm' on task 'pollution' (iter 1/1)\n",
      "INFO  [16:48:36.106] [mlr3] Applying learner 'regr.lm' on task 'pollution' (iter 1/1)\n",
      "INFO  [16:48:36.133] [mlr3] Applying learner 'regr.lm' on task 'pollution' (iter 1/1)\n"
     ]
    }
   ],
   "source": [
    "# define train-test splits\n",
    "repetitions <- 1:10\n",
    "split_ratios <- seq(0.1, 0.9, by = 0.1)\n",
    "\n",
    "# create resampling objects with holdout strategy, using lapply for efficient computation\n",
    "split_strategies <- lapply(split_ratios, function(i) mlr3::rsmp(\"holdout\", ratio = i))\n",
    "\n",
    "# train linear learners and predict in one step (remember to set a seed)\n",
    "set.seed(123)\n",
    "results <- list()\n",
    "for (i in repetitions) {\n",
    "  results[[i]] <- lapply(split_strategies, function(i) mlr3::resample(task, learner, i))\n",
    "}\n",
    "\n",
    "errors <- lapply(\n",
    "  repetitions,\n",
    "  function(i) sapply(results[[i]], function(j) j$score()$regr.mse))\n",
    "\n",
    "# assemble everything in data.frame and convert to long format for plotting\n",
    "errors_df <- as.data.frame(do.call(cbind, errors))\n",
    "errors_df$split_ratios <- split_ratios\n",
    "errors_df_long <- reshape2::melt(errors_df, id.vars = \"split_ratios\")\n",
    "names(errors_df_long)[2:3] <- c(\"repetition\", \"mse\")"
   ]
  },
  {
   "cell_type": "code",
   "execution_count": 10,
   "id": "68731c8d",
   "metadata": {
    "vscode": {
     "languageId": "r"
    }
   },
   "outputs": [
    {
     "data": {
      "image/png": "[encoded data removed]",
      "text/plain": [
       "plot without title"
      ]
     },
     "metadata": {
      "image/png": {
       "height": 420,
       "width": 420
      }
     },
     "output_type": "display_data"
    }
   ],
   "source": [
    "#| label: plot\n",
    "\n",
    "# plot errors vs split ratio\n",
    "library(ggplot2)\n",
    "ggplot(errors_df_long, aes(x = as.factor(split_ratios), y = mse)) +\n",
    "  geom_boxplot(fill = \"lightgray\") +\n",
    "  theme_classic() +\n",
    "  labs(x = \"share of training samples\", y = \"average MSE\")"
   ]
  }
 ],
 "metadata": {
  "kernelspec": {
   "display_name": "R-i2ml",
   "language": "R",
   "name": "ir"
  },
  "language_info": {
   "codemirror_mode": "r",
   "file_extension": ".r",
   "mimetype": "text/x-r-source",
   "name": "R",
   "pygments_lexer": "r",
   "version": "4.2.0"
  }
 },
 "nbformat": 4,
 "nbformat_minor": 5
}
