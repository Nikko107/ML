{
 "cells": [
  {
   "cell_type": "markdown",
   "id": "68c7edcc",
   "metadata": {},
   "source": [
    "## Init: Import packages"
   ]
  },
  {
   "cell_type": "code",
   "execution_count": 1,
   "id": "5edab610",
   "metadata": {},
   "outputs": [],
   "source": [
    "# general\n",
    "import numpy as np\n",
    "import pandas as pd\n",
    "#sklearn\n",
    "from sklearn.neighbors import KNeighborsClassifier\n",
    "from sklearn.ensemble import RandomForestClassifier\n",
    "from sklearn.ensemble import VotingClassifier\n",
    "from sklearn.pipeline import Pipeline\n",
    "from sklearn.compose import ColumnTransformer\n",
    "from sklearn.compose import make_column_selector\n",
    "from sklearn.preprocessing import LabelEncoder\n",
    "from sklearn.preprocessing import OneHotEncoder\n",
    "from sklearn.preprocessing import StandardScaler\n",
    "from sklearn.impute import SimpleImputer\n",
    "from sklearn.metrics import balanced_accuracy_score\n",
    "from sklearn.metrics import confusion_matrix\n",
    "from sklearn.model_selection import train_test_split\n",
    "from sklearn.model_selection import GridSearchCV, StratifiedKFold\n",
    "from sklearn.feature_selection import VarianceThreshold"
   ]
  },
  {
   "cell_type": "markdown",
   "id": "da249e24",
   "metadata": {},
   "source": [
    "## Solution 1: Tuning Principles"
   ]
  },
  {
   "cell_type": "markdown",
   "id": "d2bb577f",
   "metadata": {},
   "source": [
    "See sol_nested_resampling.pdf"
   ]
  },
  {
   "cell_type": "markdown",
   "id": "c624149b",
   "metadata": {},
   "source": [
    "## Solution 2: AutoML"
   ]
  },
  {
   "cell_type": "markdown",
   "id": "81b72161",
   "metadata": {},
   "source": [
    "### a)"
   ]
  },
  {
   "cell_type": "code",
   "execution_count": 2,
   "id": "15bab9fd",
   "metadata": {},
   "outputs": [],
   "source": [
    "# load data\n",
    "pima = pd.read_csv(\"../data/pima.csv\")\n",
    "X_pima = pima.copy()\n",
    "y_pima = X_pima.pop(\"diabetes\")\n",
    "\n",
    "# encode the target as 0-1 vector\n",
    "le = LabelEncoder()\n",
    "y_pima = le.fit_transform(y_pima)\n",
    "\n",
    "# Split the data into training and testing sets\n",
    "X_train, X_test, y_train, y_test = train_test_split(X_pima, y_pima, test_size=0.2, stratify=y_pima, random_state=42)"
   ]
  },
  {
   "cell_type": "markdown",
   "id": "177ab390",
   "metadata": {},
   "source": [
    "### b)"
   ]
  },
  {
   "cell_type": "code",
   "execution_count": 3,
   "id": "86f8b928",
   "metadata": {},
   "outputs": [],
   "source": [
    "# Define the column transformer\n",
    "preprocessor = ColumnTransformer(\n",
    "    transformers=[\n",
    "        # One-hot encode categorical columns, like strings\n",
    "        ('onehot', OneHotEncoder(drop='first', handle_unknown='ignore'), make_column_selector(dtype_include=object)),\n",
    "        # Impute missing values for numerical columns\n",
    "        ('imputer', SimpleImputer(strategy = 'median'), make_column_selector(dtype_include=np.number))\n",
    "    ])"
   ]
  },
  {
   "cell_type": "markdown",
   "id": "e2be8d5d",
   "metadata": {},
   "source": [
    "### c)"
   ]
  },
  {
   "cell_type": "code",
   "execution_count": 4,
   "id": "f4718f0e",
   "metadata": {},
   "outputs": [],
   "source": [
    "# Create a pipeline with preprocessing and modeling steps\n",
    "# for knn\n",
    "clf_knn = Pipeline([\n",
    "    ('preprocessor', preprocessor),\n",
    "    ('constant', VarianceThreshold()), # remove variables with constant values across all observations\n",
    "    ('scaler', StandardScaler()),  # Data scaling\n",
    "    ('classifier', KNeighborsClassifier())  # KNN model\n",
    "])\n",
    "\n",
    "# for random forest\n",
    "clf_randomforest = Pipeline([\n",
    "    ('preprocessor', preprocessor),\n",
    "    ('constant', VarianceThreshold()), # remove variables with constant values across all observations\n",
    "    ('classifier', RandomForestClassifier(random_state=42))  # Random Forest\n",
    "])"
   ]
  },
  {
   "cell_type": "markdown",
   "id": "72db06b4",
   "metadata": {},
   "source": [
    "### d)"
   ]
  },
  {
   "cell_type": "code",
   "execution_count": 5,
   "id": "cc24aa58",
   "metadata": {},
   "outputs": [],
   "source": [
    "# combine both classifiers with a soft voting ensembling\n",
    "clf_voting = VotingClassifier(\n",
    "    estimators=[('knn', clf_knn), ('random_forest', clf_randomforest)], \n",
    "    voting = \"soft\", \n",
    "    n_jobs = -1\n",
    ")"
   ]
  },
  {
   "cell_type": "markdown",
   "id": "f41263a8",
   "metadata": {},
   "source": [
    "### e)"
   ]
  },
  {
   "cell_type": "code",
   "execution_count": 6,
   "id": "61a16a67",
   "metadata": {},
   "outputs": [],
   "source": [
    "# define a parameter grid for the tuning process\n",
    "param_grid_voting = [{\"knn__classifier__n_neighbors\": list(range(1,11))},\n",
    "                     {\"random_forest__classifier__max_features\": list(range(1,6))}]"
   ]
  },
  {
   "cell_type": "markdown",
   "id": "d437afe4",
   "metadata": {},
   "source": [
    "### f)"
   ]
  },
  {
   "cell_type": "code",
   "execution_count": 7,
   "id": "1e5c377b",
   "metadata": {},
   "outputs": [],
   "source": [
    "# initalize scores with 0\n",
    "NUM_OUTER_FOLDS = 3\n",
    "nested_scores_voting = np.zeros(NUM_OUTER_FOLDS)\n",
    "\n",
    "# Choose cross-validation techniques for the inner and outer loops, independently of the dataset.\n",
    "# E.g \"GroupKFold\", \"LeaveOneOut\", \"LeaveOneGroupOut\", etc.\n",
    "inner_cv = StratifiedKFold(n_splits=3, shuffle=True, random_state=42)\n",
    "outer_cv = StratifiedKFold(n_splits=NUM_OUTER_FOLDS, shuffle=True, random_state=42)"
   ]
  },
  {
   "cell_type": "code",
   "execution_count": 8,
   "id": "23b540ad",
   "metadata": {},
   "outputs": [],
   "source": [
    "for i, (train_index, val_index) in enumerate(outer_cv.split(X_train, y_train)):\n",
    "    # Nested CV with parameter optimization for ensemble pipeline\n",
    "    clf_gs_voting = GridSearchCV(\n",
    "        estimator=clf_voting, \n",
    "        param_grid=param_grid_voting, \n",
    "        cv=inner_cv, \n",
    "        n_jobs=-1\n",
    "    )\n",
    "    clf_gs_voting.fit(X_train.iloc[train_index], y_train[train_index])\n",
    "    nested_scores_voting[i] = clf_gs_voting.score(X_train.iloc[val_index], y_train[val_index])"
   ]
  },
  {
   "cell_type": "markdown",
   "id": "f21ce763",
   "metadata": {},
   "source": [
    "### g)"
   ]
  },
  {
   "cell_type": "code",
   "execution_count": 9,
   "id": "fd8361a0",
   "metadata": {},
   "outputs": [
    {
     "name": "stdout",
     "output_type": "stream",
     "text": [
      "[0.76097561 0.76097561 0.75490196]\n"
     ]
    }
   ],
   "source": [
    "# print performance per outer fold\n",
    "print(nested_scores_voting)"
   ]
  },
  {
   "cell_type": "code",
   "execution_count": 10,
   "id": "0548e8ba",
   "metadata": {},
   "outputs": [
    {
     "name": "stdout",
     "output_type": "stream",
     "text": [
      "0.7589510600988363\n"
     ]
    }
   ],
   "source": [
    "# print performance aggregated over all folds\n",
    "print(nested_scores_voting.mean())"
   ]
  },
  {
   "cell_type": "markdown",
   "id": "58b6acc6",
   "metadata": {},
   "source": [
    "### h)"
   ]
  },
  {
   "cell_type": "code",
   "execution_count": 11,
   "id": "1213b1b3",
   "metadata": {},
   "outputs": [
    {
     "name": "stdout",
     "output_type": "stream",
     "text": [
      "0.7597402597402597\n"
     ]
    }
   ],
   "source": [
    "# evaluate performace on test set with accuracy\n",
    "test_scores_voting = clf_gs_voting.score(X_test, y_test)\n",
    "print(test_scores_voting)"
   ]
  },
  {
   "cell_type": "markdown",
   "id": "87cb48a1",
   "metadata": {},
   "source": [
    "Accuracy does not account for imbalances data! Let's check how the test data is distributed:"
   ]
  },
  {
   "cell_type": "code",
   "execution_count": 12,
   "id": "d1d70e5b",
   "metadata": {},
   "outputs": [
    {
     "data": {
      "text/html": [
       "<div>\n",
       "<style scoped>\n",
       "    .dataframe tbody tr th:only-of-type {\n",
       "        vertical-align: middle;\n",
       "    }\n",
       "\n",
       "    .dataframe tbody tr th {\n",
       "        vertical-align: top;\n",
       "    }\n",
       "\n",
       "    .dataframe thead th {\n",
       "        text-align: right;\n",
       "    }\n",
       "</style>\n",
       "<table border=\"1\" class=\"dataframe\">\n",
       "  <thead>\n",
       "    <tr style=\"text-align: right;\">\n",
       "      <th></th>\n",
       "      <th>0</th>\n",
       "      <th>1</th>\n",
       "    </tr>\n",
       "  </thead>\n",
       "  <tbody>\n",
       "    <tr>\n",
       "      <th>0</th>\n",
       "      <td>100</td>\n",
       "      <td>54</td>\n",
       "    </tr>\n",
       "  </tbody>\n",
       "</table>\n",
       "</div>"
      ],
      "text/plain": [
       "     0   1\n",
       "0  100  54"
      ]
     },
     "execution_count": 12,
     "metadata": {},
     "output_type": "execute_result"
    }
   ],
   "source": [
    "unique, counts = np.unique(y_test, return_counts=True)\n",
    "table = pd.DataFrame(data = dict(zip(unique, counts)), index=[0]) #index necassary because only numeric values are in dictionary\n",
    "table"
   ]
  },
  {
   "cell_type": "code",
   "execution_count": 13,
   "id": "8f94aff6",
   "metadata": {},
   "outputs": [
    {
     "data": {
      "text/html": [
       "<div>\n",
       "<style scoped>\n",
       "    .dataframe tbody tr th:only-of-type {\n",
       "        vertical-align: middle;\n",
       "    }\n",
       "\n",
       "    .dataframe tbody tr th {\n",
       "        vertical-align: top;\n",
       "    }\n",
       "\n",
       "    .dataframe thead th {\n",
       "        text-align: right;\n",
       "    }\n",
       "</style>\n",
       "<table border=\"1\" class=\"dataframe\">\n",
       "  <thead>\n",
       "    <tr style=\"text-align: right;\">\n",
       "      <th></th>\n",
       "      <th>0</th>\n",
       "      <th>1</th>\n",
       "    </tr>\n",
       "  </thead>\n",
       "  <tbody>\n",
       "    <tr>\n",
       "      <th>0</th>\n",
       "      <td>86</td>\n",
       "      <td>14</td>\n",
       "    </tr>\n",
       "    <tr>\n",
       "      <th>1</th>\n",
       "      <td>23</td>\n",
       "      <td>31</td>\n",
       "    </tr>\n",
       "  </tbody>\n",
       "</table>\n",
       "</div>"
      ],
      "text/plain": [
       "    0   1\n",
       "0  86  14\n",
       "1  23  31"
      ]
     },
     "execution_count": 13,
     "metadata": {},
     "output_type": "execute_result"
    }
   ],
   "source": [
    "pred_test = clf_gs_voting.predict(X_test)\n",
    "conf_matrix = pd.DataFrame(confusion_matrix(y_test, pred_test))\n",
    "conf_matrix"
   ]
  },
  {
   "cell_type": "markdown",
   "id": "df8eb0b3",
   "metadata": {},
   "source": [
    "The distribution shows a shift towards 'false' with $2/3$ of all test observations."
   ]
  },
  {
   "cell_type": "code",
   "execution_count": 14,
   "id": "51936a5c",
   "metadata": {},
   "outputs": [
    {
     "name": "stdout",
     "output_type": "stream",
     "text": [
      "0.717037037037037\n"
     ]
    }
   ],
   "source": [
    "# evaluate performace on test set with balanced accuracy to account for imbalances data set\n",
    "# Balanced accuracy = (Sensitivity + Specificity) / 2\n",
    "balanced_accuracy = balanced_accuracy_score(y_test, pred_test)\n",
    "print(balanced_accuracy)"
   ]
  },
  {
   "cell_type": "markdown",
   "id": "75c7b52f",
   "metadata": {},
   "source": [
    "The balanced accuracy is lower than a normal accuracy score, as it accounts seperatly for the lower Sensitivity."
   ]
  },
  {
   "cell_type": "markdown",
   "id": "8bad04c5",
   "metadata": {},
   "source": [
    "## Solution 3: Kaggle Challenge"
   ]
  },
  {
   "cell_type": "markdown",
   "id": "7cc076cf",
   "metadata": {},
   "source": [
    "We do not provide an explicit solution here, but have a look at the [tuning code demo](https://github.com/slds-lmu/lecture_i2ml/blob/master/code-demos-pdf/code_demo_kaggle.pdf), which is written in *mlr3* and covers some parts,\n",
    "and take inspiration from the public contributions on Kaggle."
   ]
  }
 ],
 "metadata": {
  "kernelspec": {
   "display_name": "python-i2ml",
   "language": "python",
   "name": "python-i2ml"
  },
  "language_info": {
   "codemirror_mode": {
    "name": "ipython",
    "version": 3
   },
   "file_extension": ".py",
   "mimetype": "text/x-python",
   "name": "python",
   "nbconvert_exporter": "python",
   "pygments_lexer": "ipython3",
   "version": "3.10.12"
  }
 },
 "nbformat": 4,
 "nbformat_minor": 5
}
