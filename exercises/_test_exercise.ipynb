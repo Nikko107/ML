{
 "cells": [
  {
   "cell_type": "raw",
   "id": "f62dbafbb4ec610c",
   "metadata": {
    "collapsed": false,
    "id": "f62dbafbb4ec610c"
   },
   "source": [
    "%load_ext rpy2.ipython\n",
    "\n",
    "v = 2\n"
   ]
  },
  {
   "cell_type": "code",
   "execution_count": 1,
   "id": "lhGKAr8QUL1N",
   "metadata": {
    "id": "lhGKAr8QUL1N"
   },
   "outputs": [
    {
     "name": "stdout",
     "output_type": "stream",
     "text": [
      "The rpy2.ipython extension is already loaded. To reload it, use:\n",
      "  %reload_ext rpy2.ipython\n"
     ]
    }
   ],
   "source": [
    "%load_ext rpy2.ipython"
   ]
  },
  {
   "cell_type": "code",
   "execution_count": 2,
   "id": "initial_id",
   "metadata": {
    "ExecuteTime": {
     "end_time": "2023-10-23T06:50:29.512495943Z",
     "start_time": "2023-10-23T06:50:29.399787678Z"
    },
    "colab": {
     "base_uri": "https://localhost:8080/"
    },
    "id": "initial_id",
    "outputId": "a7e8975a-05db-4e53-a546-b0503ea763e5"
   },
   "outputs": [
    {
     "name": "stdout",
     "output_type": "stream",
     "text": [
      "[0.  0.5 1.  1.5]\n"
     ]
    }
   ],
   "source": [
    "#| label: imports\n",
    "\n",
    "import numpy as np\n",
    "\n",
    "x = np.arange(0, 2, 0.5)\n",
    "print(x)"
   ]
  },
  {
   "cell_type": "code",
   "execution_count": 3,
   "id": "ea7d2073d58a17ca",
   "metadata": {
    "ExecuteTime": {
     "end_time": "2023-10-23T06:50:30.894077811Z",
     "start_time": "2023-10-23T06:50:30.881698917Z"
    },
    "colab": {
     "base_uri": "https://localhost:8080/"
    },
    "id": "ea7d2073d58a17ca",
    "outputId": "40387c37-49ce-4324-fdf8-4f045e6f1df9"
   },
   "outputs": [
    {
     "name": "stdout",
     "output_type": "stream",
     "text": [
      "[0.   0.25 1.   2.25]\n"
     ]
    }
   ],
   "source": [
    "#| label: computations\n",
    "\n",
    "print(x**2)"
   ]
  },
  {
   "cell_type": "code",
   "execution_count": 4,
   "id": "d85bb6aef092411",
   "metadata": {
    "ExecuteTime": {
     "end_time": "2023-10-23T06:50:56.703153658Z",
     "start_time": "2023-10-23T06:50:56.694506987Z"
    },
    "colab": {
     "base_uri": "https://localhost:8080/"
    },
    "id": "d85bb6aef092411",
    "outputId": "8205f270-2c66-4e1e-c488-620388883b47"
   },
   "outputs": [
    {
     "name": "stdout",
     "output_type": "stream",
     "text": [
      " "
     ]
    },
    {
     "name": "stdout",
     "output_type": "stream",
     "text": [
      " Sepal.Length"
     ]
    },
    {
     "name": "stdout",
     "output_type": "stream",
     "text": [
      " Sepal.Width"
     ]
    },
    {
     "name": "stdout",
     "output_type": "stream",
     "text": [
      " Petal.Length"
     ]
    },
    {
     "name": "stdout",
     "output_type": "stream",
     "text": [
      " Petal.Width"
     ]
    },
    {
     "name": "stdout",
     "output_type": "stream",
     "text": [
      " Species"
     ]
    },
    {
     "name": "stdout",
     "output_type": "stream",
     "text": [
      "\n",
      "1"
     ]
    },
    {
     "name": "stdout",
     "output_type": "stream",
     "text": [
      "          5.1"
     ]
    },
    {
     "name": "stdout",
     "output_type": "stream",
     "text": [
      "         3.5"
     ]
    },
    {
     "name": "stdout",
     "output_type": "stream",
     "text": [
      "          1.4"
     ]
    },
    {
     "name": "stdout",
     "output_type": "stream",
     "text": [
      "         0.2"
     ]
    },
    {
     "name": "stdout",
     "output_type": "stream",
     "text": [
      "  setosa"
     ]
    },
    {
     "name": "stdout",
     "output_type": "stream",
     "text": [
      "\n",
      "2"
     ]
    },
    {
     "name": "stdout",
     "output_type": "stream",
     "text": [
      "          4.9"
     ]
    },
    {
     "name": "stdout",
     "output_type": "stream",
     "text": [
      "         3.0"
     ]
    },
    {
     "name": "stdout",
     "output_type": "stream",
     "text": [
      "          1.4"
     ]
    },
    {
     "name": "stdout",
     "output_type": "stream",
     "text": [
      "         0.2"
     ]
    },
    {
     "name": "stdout",
     "output_type": "stream",
     "text": [
      "  setosa"
     ]
    },
    {
     "name": "stdout",
     "output_type": "stream",
     "text": [
      "\n",
      "3"
     ]
    },
    {
     "name": "stdout",
     "output_type": "stream",
     "text": [
      "          4.7"
     ]
    },
    {
     "name": "stdout",
     "output_type": "stream",
     "text": [
      "         3.2"
     ]
    },
    {
     "name": "stdout",
     "output_type": "stream",
     "text": [
      "          1.3"
     ]
    },
    {
     "name": "stdout",
     "output_type": "stream",
     "text": [
      "         0.2"
     ]
    },
    {
     "name": "stdout",
     "output_type": "stream",
     "text": [
      "  setosa"
     ]
    },
    {
     "name": "stdout",
     "output_type": "stream",
     "text": [
      "\n",
      "4"
     ]
    },
    {
     "name": "stdout",
     "output_type": "stream",
     "text": [
      "          4.6"
     ]
    },
    {
     "name": "stdout",
     "output_type": "stream",
     "text": [
      "         3.1"
     ]
    },
    {
     "name": "stdout",
     "output_type": "stream",
     "text": [
      "          1.5"
     ]
    },
    {
     "name": "stdout",
     "output_type": "stream",
     "text": [
      "         0.2"
     ]
    },
    {
     "name": "stdout",
     "output_type": "stream",
     "text": [
      "  setosa"
     ]
    },
    {
     "name": "stdout",
     "output_type": "stream",
     "text": [
      "\n",
      "5"
     ]
    },
    {
     "name": "stdout",
     "output_type": "stream",
     "text": [
      "          5.0"
     ]
    },
    {
     "name": "stdout",
     "output_type": "stream",
     "text": [
      "         3.6"
     ]
    },
    {
     "name": "stdout",
     "output_type": "stream",
     "text": [
      "          1.4"
     ]
    },
    {
     "name": "stdout",
     "output_type": "stream",
     "text": [
      "         0.2"
     ]
    },
    {
     "name": "stdout",
     "output_type": "stream",
     "text": [
      "  setosa"
     ]
    },
    {
     "name": "stdout",
     "output_type": "stream",
     "text": [
      "\n",
      "6"
     ]
    },
    {
     "name": "stdout",
     "output_type": "stream",
     "text": [
      "          5.4"
     ]
    },
    {
     "name": "stdout",
     "output_type": "stream",
     "text": [
      "         3.9"
     ]
    },
    {
     "name": "stdout",
     "output_type": "stream",
     "text": [
      "          1.7"
     ]
    },
    {
     "name": "stdout",
     "output_type": "stream",
     "text": [
      "         0.4"
     ]
    },
    {
     "name": "stdout",
     "output_type": "stream",
     "text": [
      "  setosa"
     ]
    },
    {
     "name": "stdout",
     "output_type": "stream",
     "text": [
      "\n"
     ]
    }
   ],
   "source": [
    "#| label: foo\n",
    "\n",
    "%%R\n",
    "head(iris)"
   ]
  },
  {
   "cell_type": "code",
   "execution_count": 5,
   "id": "55cVPVMEYIjg",
   "metadata": {
    "id": "55cVPVMEYIjg"
   },
   "outputs": [
    {
     "name": "stderr",
     "output_type": "stream",
     "text": [
      "* installing *source* package ‘mlr3’ ...\n",
      "** package ‘mlr3’ successfully unpacked and MD5 sums checked\n",
      "** using staged installation\n",
      "** R\n",
      "** inst\n",
      "** byte-compile and prepare package for lazy loading\n"
     ]
    },
    {
     "name": "stderr",
     "output_type": "stream",
     "text": [
      "** help\n"
     ]
    },
    {
     "name": "stderr",
     "output_type": "stream",
     "text": [
      "*** installing help indices\n"
     ]
    },
    {
     "name": "stderr",
     "output_type": "stream",
     "text": [
      "*** copying figures\n",
      "** building package indices\n"
     ]
    },
    {
     "name": "stderr",
     "output_type": "stream",
     "text": [
      "** testing if installed package can be loaded from temporary location\n"
     ]
    },
    {
     "name": "stderr",
     "output_type": "stream",
     "text": [
      "** testing if installed package can be loaded from final location\n"
     ]
    },
    {
     "name": "stderr",
     "output_type": "stream",
     "text": [
      "** testing if installed package keeps a record of temporary installation path\n",
      "* DONE (mlr3)\n"
     ]
    },
    {
     "data": {
      "text/plain": [
       "Installing package into ‘/home/lisa/R/x86_64-pc-linux-gnu-library/4.3’\n",
       "(as ‘lib’ is unspecified)\n",
       "trying URL 'https://cloud.r-project.org/src/contrib/mlr3_0.16.1.tar.gz'\n",
       "Content type 'application/x-gzip' length 507453 bytes (495 KB)\n",
       "==================================================\n",
       "downloaded 495 KB\n",
       "\n",
       "\n",
       "The downloaded source packages are in\n",
       "\t‘/tmp/RtmpwEC3gZ/downloaded_packages’\n"
      ]
     },
     "metadata": {},
     "output_type": "display_data"
    }
   ],
   "source": [
    "%R install.packages(\"mlr3\")"
   ]
  },
  {
   "cell_type": "code",
   "execution_count": 6,
   "id": "3CNxQxAPX-Zz",
   "metadata": {
    "colab": {
     "base_uri": "https://localhost:8080/"
    },
    "id": "3CNxQxAPX-Zz",
    "outputId": "d263ee75-c53c-459b-8cae-927280569151"
   },
   "outputs": [
    {
     "name": "stdout",
     "output_type": "stream",
     "text": [
      "<TaskClassif:iris> (150 x 5): Iris Flowers"
     ]
    },
    {
     "name": "stdout",
     "output_type": "stream",
     "text": [
      "\n"
     ]
    },
    {
     "name": "stdout",
     "output_type": "stream",
     "text": [
      "* Target: Species"
     ]
    },
    {
     "name": "stdout",
     "output_type": "stream",
     "text": [
      "\n"
     ]
    },
    {
     "name": "stdout",
     "output_type": "stream",
     "text": [
      "* Properties: multiclass"
     ]
    },
    {
     "name": "stdout",
     "output_type": "stream",
     "text": [
      "\n"
     ]
    },
    {
     "name": "stdout",
     "output_type": "stream",
     "text": [
      "* Features (4):"
     ]
    },
    {
     "name": "stdout",
     "output_type": "stream",
     "text": [
      "\n"
     ]
    },
    {
     "name": "stdout",
     "output_type": "stream",
     "text": [
      "  - dbl (4): Petal.Length, Petal.Width, Sepal.Length, Sepal.Width"
     ]
    },
    {
     "name": "stdout",
     "output_type": "stream",
     "text": [
      "\n"
     ]
    },
    {
     "data": {
      "text/plain": [
       "<rpy2.robjects.environments.Environment object at 0x7f9064baf0c0> [RTYPES.ENVSXP]\n",
       "R classes: ('TaskClassif', 'TaskSupervised', 'Task', 'R6')\n",
       "n items: 51"
      ]
     },
     "execution_count": 30,
     "metadata": {},
     "output_type": "execute_result"
    }
   ],
   "source": [
    "#| label: bar\n",
    "\n",
    "%R library(mlr3)\n",
    "%R print(tsk(\"iris\"))"
   ]
  }
 ],
 "metadata": {
  "colab": {
   "provenance": []
  },
  "kernelspec": {
   "display_name": "Python 3",
   "language": "python",
   "name": "python3"
  },
  "language_info": {
   "codemirror_mode": {
    "name": "ipython",
    "version": 3
   },
   "file_extension": ".py",
   "mimetype": "text/x-python",
   "name": "python",
   "nbconvert_exporter": "python",
   "pygments_lexer": "ipython3",
   "version": "3.10.12"
  }
 },
 "nbformat": 4,
 "nbformat_minor": 5
}
